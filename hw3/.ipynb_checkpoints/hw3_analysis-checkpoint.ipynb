{
 "cells": [
  {
   "cell_type": "markdown",
   "metadata": {},
   "source": [
    "# HW3 Analysis"
   ]
  },
  {
   "cell_type": "markdown",
   "metadata": {},
   "source": [
    "## Import and load data"
   ]
  },
  {
   "cell_type": "code",
   "execution_count": 8,
   "metadata": {},
   "outputs": [],
   "source": [
    "import ml_pipeline as pp\n",
    "import pandas as pd\n",
    "import datetime as dt\n",
    "import numpy as np\n",
    "from sklearn import metrics\n",
    "file = './data/projects_2012_2013.csv'\n",
    "df = pp.load_csv(file)"
   ]
  },
  {
   "cell_type": "markdown",
   "metadata": {},
   "source": [
    "## Data transformations"
   ]
  },
  {
   "cell_type": "markdown",
   "metadata": {},
   "source": [
    "### Helper functions for hw3 specific data"
   ]
  },
  {
   "cell_type": "markdown",
   "metadata": {},
   "source": [
    "#### Convert date columns to datetime"
   ]
  },
  {
   "cell_type": "code",
   "execution_count": 9,
   "metadata": {},
   "outputs": [],
   "source": [
    "df.date_posted = pp.col_datetime(df, 'date_posted')"
   ]
  },
  {
   "cell_type": "code",
   "execution_count": 10,
   "metadata": {},
   "outputs": [],
   "source": [
    "df.datefullyfunded = pp.col_datetime(df,'datefullyfunded')"
   ]
  },
  {
   "cell_type": "markdown",
   "metadata": {},
   "source": [
    "#### Create labels"
   ]
  },
  {
   "cell_type": "code",
   "execution_count": 11,
   "metadata": {},
   "outputs": [],
   "source": [
    "df = pp.create_label(df, pred_time=60)"
   ]
  },
  {
   "cell_type": "markdown",
   "metadata": {},
   "source": [
    "## Selecting features and cleaning"
   ]
  },
  {
   "cell_type": "code",
   "execution_count": 12,
   "metadata": {},
   "outputs": [
    {
     "data": {
      "text/html": [
       "<div>\n",
       "<style scoped>\n",
       "    .dataframe tbody tr th:only-of-type {\n",
       "        vertical-align: middle;\n",
       "    }\n",
       "\n",
       "    .dataframe tbody tr th {\n",
       "        vertical-align: top;\n",
       "    }\n",
       "\n",
       "    .dataframe thead th {\n",
       "        text-align: right;\n",
       "    }\n",
       "</style>\n",
       "<table border=\"1\" class=\"dataframe\">\n",
       "  <thead>\n",
       "    <tr style=\"text-align: right;\">\n",
       "      <th></th>\n",
       "      <th>school_metro</th>\n",
       "      <th>school_charter</th>\n",
       "      <th>school_magnet</th>\n",
       "      <th>primary_focus_subject</th>\n",
       "      <th>primary_focus_area</th>\n",
       "      <th>resource_type</th>\n",
       "      <th>poverty_level</th>\n",
       "      <th>grade_level</th>\n",
       "      <th>total_price_including_optional_support</th>\n",
       "      <th>students_reached</th>\n",
       "      <th>eligible_double_your_impact_match</th>\n",
       "      <th>date_posted</th>\n",
       "      <th>label</th>\n",
       "    </tr>\n",
       "  </thead>\n",
       "  <tbody>\n",
       "    <tr>\n",
       "      <th>0</th>\n",
       "      <td>urban</td>\n",
       "      <td>f</td>\n",
       "      <td>f</td>\n",
       "      <td>Mathematics</td>\n",
       "      <td>Math &amp; Science</td>\n",
       "      <td>Supplies</td>\n",
       "      <td>highest poverty</td>\n",
       "      <td>Grades PreK-2</td>\n",
       "      <td>1498.61</td>\n",
       "      <td>31.0</td>\n",
       "      <td>f</td>\n",
       "      <td>2013-04-14</td>\n",
       "      <td>1</td>\n",
       "    </tr>\n",
       "    <tr>\n",
       "      <th>1</th>\n",
       "      <td>urban</td>\n",
       "      <td>f</td>\n",
       "      <td>f</td>\n",
       "      <td>Civics &amp; Government</td>\n",
       "      <td>History &amp; Civics</td>\n",
       "      <td>Books</td>\n",
       "      <td>highest poverty</td>\n",
       "      <td>Grades 3-5</td>\n",
       "      <td>282.47</td>\n",
       "      <td>28.0</td>\n",
       "      <td>t</td>\n",
       "      <td>2012-04-07</td>\n",
       "      <td>1</td>\n",
       "    </tr>\n",
       "    <tr>\n",
       "      <th>2</th>\n",
       "      <td>urban</td>\n",
       "      <td>f</td>\n",
       "      <td>f</td>\n",
       "      <td>Literacy</td>\n",
       "      <td>Literacy &amp; Language</td>\n",
       "      <td>Technology</td>\n",
       "      <td>high poverty</td>\n",
       "      <td>Grades 3-5</td>\n",
       "      <td>1012.38</td>\n",
       "      <td>56.0</td>\n",
       "      <td>f</td>\n",
       "      <td>2012-01-30</td>\n",
       "      <td>0</td>\n",
       "    </tr>\n",
       "    <tr>\n",
       "      <th>3</th>\n",
       "      <td>urban</td>\n",
       "      <td>f</td>\n",
       "      <td>t</td>\n",
       "      <td>Literacy</td>\n",
       "      <td>Literacy &amp; Language</td>\n",
       "      <td>Books</td>\n",
       "      <td>high poverty</td>\n",
       "      <td>Grades PreK-2</td>\n",
       "      <td>175.33</td>\n",
       "      <td>23.0</td>\n",
       "      <td>f</td>\n",
       "      <td>2012-10-11</td>\n",
       "      <td>1</td>\n",
       "    </tr>\n",
       "    <tr>\n",
       "      <th>4</th>\n",
       "      <td>suburban</td>\n",
       "      <td>f</td>\n",
       "      <td>f</td>\n",
       "      <td>Literacy</td>\n",
       "      <td>Literacy &amp; Language</td>\n",
       "      <td>Technology</td>\n",
       "      <td>high poverty</td>\n",
       "      <td>Grades PreK-2</td>\n",
       "      <td>3591.11</td>\n",
       "      <td>150.0</td>\n",
       "      <td>f</td>\n",
       "      <td>2013-01-08</td>\n",
       "      <td>0</td>\n",
       "    </tr>\n",
       "  </tbody>\n",
       "</table>\n",
       "</div>"
      ],
      "text/plain": [
       "  school_metro school_charter school_magnet primary_focus_subject  \\\n",
       "0        urban              f             f           Mathematics   \n",
       "1        urban              f             f   Civics & Government   \n",
       "2        urban              f             f              Literacy   \n",
       "3        urban              f             t              Literacy   \n",
       "4     suburban              f             f              Literacy   \n",
       "\n",
       "    primary_focus_area resource_type    poverty_level    grade_level  \\\n",
       "0       Math & Science      Supplies  highest poverty  Grades PreK-2   \n",
       "1     History & Civics         Books  highest poverty     Grades 3-5   \n",
       "2  Literacy & Language    Technology     high poverty     Grades 3-5   \n",
       "3  Literacy & Language         Books     high poverty  Grades PreK-2   \n",
       "4  Literacy & Language    Technology     high poverty  Grades PreK-2   \n",
       "\n",
       "   total_price_including_optional_support  students_reached  \\\n",
       "0                                 1498.61              31.0   \n",
       "1                                  282.47              28.0   \n",
       "2                                 1012.38              56.0   \n",
       "3                                  175.33              23.0   \n",
       "4                                 3591.11             150.0   \n",
       "\n",
       "  eligible_double_your_impact_match date_posted  label  \n",
       "0                                 f  2013-04-14      1  \n",
       "1                                 t  2012-04-07      1  \n",
       "2                                 f  2012-01-30      0  \n",
       "3                                 f  2012-10-11      1  \n",
       "4                                 f  2013-01-08      0  "
      ]
     },
     "execution_count": 12,
     "metadata": {},
     "output_type": "execute_result"
    }
   ],
   "source": [
    "feature_cols=['school_metro','school_charter', 'school_magnet', 'primary_focus_subject', 'primary_focus_area', 'resource_type', 'poverty_level', 'grade_level', 'total_price_including_optional_support', 'students_reached', 'eligible_double_your_impact_match', 'date_posted', 'label']\n",
    "sel = df[feature_cols].copy()\n",
    "sel.head()"
   ]
  },
  {
   "cell_type": "markdown",
   "metadata": {},
   "source": [
    "#### Identify feature columns with null values"
   ]
  },
  {
   "cell_type": "code",
   "execution_count": 13,
   "metadata": {
    "scrolled": false
   },
   "outputs": [
    {
     "name": "stdout",
     "output_type": "stream",
     "text": [
      "school_metro\n",
      "primary_focus_subject\n",
      "primary_focus_area\n",
      "resource_type\n",
      "grade_level\n",
      "students_reached\n"
     ]
    }
   ],
   "source": [
    "for x in pp.na_col(df):\n",
    "    if x in feature_cols:\n",
    "        print(x)"
   ]
  },
  {
   "cell_type": "markdown",
   "metadata": {},
   "source": [
    "#### Impute missing categorical variables with the most frequent, which is a common way to handle missing categorical data without more information. \n"
   ]
  },
  {
   "cell_type": "code",
   "execution_count": 14,
   "metadata": {},
   "outputs": [],
   "source": [
    "cat_cols = ['school_metro','primary_focus_subject','primary_focus_area','resource_type','grade_level']\n",
    "for x in cat_cols:\n",
    "    sel = pp.na_fill_col(sel, x , pp.most_freq)"
   ]
  },
  {
   "cell_type": "markdown",
   "metadata": {},
   "source": [
    "#### Impute missing numerical variable (students_reached) with the median value because there are outliers affecting the mean. "
   ]
  },
  {
   "cell_type": "code",
   "execution_count": 15,
   "metadata": {
    "scrolled": true
   },
   "outputs": [
    {
     "data": {
      "text/plain": [
       "0.10       18.0\n",
       "0.25       23.0\n",
       "0.50       30.0\n",
       "0.75      100.0\n",
       "0.90      200.0\n",
       "0.98      700.0\n",
       "1.00    12143.0\n",
       "Name: students_reached, dtype: float64"
      ]
     },
     "execution_count": 15,
     "metadata": {},
     "output_type": "execute_result"
    }
   ],
   "source": [
    "sel.students_reached.quantile([0.1, 0.25, 0.5, 0.75, 0.9,0.98,1])"
   ]
  },
  {
   "cell_type": "code",
   "execution_count": 16,
   "metadata": {},
   "outputs": [],
   "source": [
    "sel = pp.na_fill_col(sel, 'students_reached', np.nanmedian)"
   ]
  },
  {
   "cell_type": "markdown",
   "metadata": {},
   "source": [
    "#### Check that there are no more missing values in feature columns"
   ]
  },
  {
   "cell_type": "code",
   "execution_count": 17,
   "metadata": {},
   "outputs": [],
   "source": [
    "for x in pp.na_col(sel):\n",
    "    if x in feature_cols:\n",
    "        print(x)"
   ]
  },
  {
   "cell_type": "markdown",
   "metadata": {},
   "source": [
    "#### Discretize numeric features and then get all dummy variables."
   ]
  },
  {
   "cell_type": "code",
   "execution_count": 18,
   "metadata": {},
   "outputs": [
    {
     "data": {
      "text/plain": [
       "[(30.0, 100.0], (23.0, 30.0], (0.999, 23.0], (100.0, 12143.0]]\n",
       "Categories (4, interval[float64]): [(0.999, 23.0] < (23.0, 30.0] < (30.0, 100.0] < (100.0, 12143.0]]"
      ]
     },
     "execution_count": 18,
     "metadata": {},
     "output_type": "execute_result"
    }
   ],
   "source": [
    "# discretize numeric features\n",
    "bucketdict= {'total_price_including_optional_support': 4, 'students_reached':4}\n",
    "df_discr = pp.feat_mult_disc(sel, bucketdict, qt=True)\n",
    "\n",
    "df_discr.total_price_including_optional_support_binned.unique()\n",
    "df_discr.students_reached_binned.unique()"
   ]
  },
  {
   "cell_type": "code",
   "execution_count": 19,
   "metadata": {},
   "outputs": [],
   "source": [
    "col_to_binary = list(df_discr.columns)\n",
    "col_to_binary.remove('label')\n",
    "col_to_binary.remove('date_posted')"
   ]
  },
  {
   "cell_type": "code",
   "execution_count": 20,
   "metadata": {},
   "outputs": [
    {
     "data": {
      "text/plain": [
       "['school_metro',\n",
       " 'school_charter',\n",
       " 'school_magnet',\n",
       " 'primary_focus_subject',\n",
       " 'primary_focus_area',\n",
       " 'resource_type',\n",
       " 'poverty_level',\n",
       " 'grade_level',\n",
       " 'eligible_double_your_impact_match',\n",
       " 'total_price_including_optional_support_binned',\n",
       " 'students_reached_binned']"
      ]
     },
     "execution_count": 20,
     "metadata": {},
     "output_type": "execute_result"
    }
   ],
   "source": [
    "col_to_binary"
   ]
  },
  {
   "cell_type": "code",
   "execution_count": 21,
   "metadata": {},
   "outputs": [
    {
     "data": {
      "text/html": [
       "<div>\n",
       "<style scoped>\n",
       "    .dataframe tbody tr th:only-of-type {\n",
       "        vertical-align: middle;\n",
       "    }\n",
       "\n",
       "    .dataframe tbody tr th {\n",
       "        vertical-align: top;\n",
       "    }\n",
       "\n",
       "    .dataframe thead th {\n",
       "        text-align: right;\n",
       "    }\n",
       "</style>\n",
       "<table border=\"1\" class=\"dataframe\">\n",
       "  <thead>\n",
       "    <tr style=\"text-align: right;\">\n",
       "      <th></th>\n",
       "      <th>date_posted</th>\n",
       "      <th>label</th>\n",
       "      <th>school_metro_rural</th>\n",
       "      <th>school_metro_suburban</th>\n",
       "      <th>school_metro_urban</th>\n",
       "      <th>school_charter_f</th>\n",
       "      <th>school_charter_t</th>\n",
       "      <th>school_magnet_f</th>\n",
       "      <th>school_magnet_t</th>\n",
       "      <th>primary_focus_subject_Applied Sciences</th>\n",
       "      <th>...</th>\n",
       "      <th>eligible_double_your_impact_match_f</th>\n",
       "      <th>eligible_double_your_impact_match_t</th>\n",
       "      <th>total_price_including_optional_support_binned_(91.999, 345.81]</th>\n",
       "      <th>total_price_including_optional_support_binned_(345.81, 510.5]</th>\n",
       "      <th>total_price_including_optional_support_binned_(510.5, 752.96]</th>\n",
       "      <th>total_price_including_optional_support_binned_(752.96, 164382.84]</th>\n",
       "      <th>students_reached_binned_(0.999, 23.0]</th>\n",
       "      <th>students_reached_binned_(23.0, 30.0]</th>\n",
       "      <th>students_reached_binned_(30.0, 100.0]</th>\n",
       "      <th>students_reached_binned_(100.0, 12143.0]</th>\n",
       "    </tr>\n",
       "  </thead>\n",
       "  <tbody>\n",
       "    <tr>\n",
       "      <th>0</th>\n",
       "      <td>2013-04-14</td>\n",
       "      <td>1</td>\n",
       "      <td>0</td>\n",
       "      <td>0</td>\n",
       "      <td>1</td>\n",
       "      <td>1</td>\n",
       "      <td>0</td>\n",
       "      <td>1</td>\n",
       "      <td>0</td>\n",
       "      <td>0</td>\n",
       "      <td>...</td>\n",
       "      <td>1</td>\n",
       "      <td>0</td>\n",
       "      <td>0</td>\n",
       "      <td>0</td>\n",
       "      <td>0</td>\n",
       "      <td>1</td>\n",
       "      <td>0</td>\n",
       "      <td>0</td>\n",
       "      <td>1</td>\n",
       "      <td>0</td>\n",
       "    </tr>\n",
       "    <tr>\n",
       "      <th>1</th>\n",
       "      <td>2012-04-07</td>\n",
       "      <td>1</td>\n",
       "      <td>0</td>\n",
       "      <td>0</td>\n",
       "      <td>1</td>\n",
       "      <td>1</td>\n",
       "      <td>0</td>\n",
       "      <td>1</td>\n",
       "      <td>0</td>\n",
       "      <td>0</td>\n",
       "      <td>...</td>\n",
       "      <td>0</td>\n",
       "      <td>1</td>\n",
       "      <td>1</td>\n",
       "      <td>0</td>\n",
       "      <td>0</td>\n",
       "      <td>0</td>\n",
       "      <td>0</td>\n",
       "      <td>1</td>\n",
       "      <td>0</td>\n",
       "      <td>0</td>\n",
       "    </tr>\n",
       "    <tr>\n",
       "      <th>2</th>\n",
       "      <td>2012-01-30</td>\n",
       "      <td>0</td>\n",
       "      <td>0</td>\n",
       "      <td>0</td>\n",
       "      <td>1</td>\n",
       "      <td>1</td>\n",
       "      <td>0</td>\n",
       "      <td>1</td>\n",
       "      <td>0</td>\n",
       "      <td>0</td>\n",
       "      <td>...</td>\n",
       "      <td>1</td>\n",
       "      <td>0</td>\n",
       "      <td>0</td>\n",
       "      <td>0</td>\n",
       "      <td>0</td>\n",
       "      <td>1</td>\n",
       "      <td>0</td>\n",
       "      <td>0</td>\n",
       "      <td>1</td>\n",
       "      <td>0</td>\n",
       "    </tr>\n",
       "    <tr>\n",
       "      <th>3</th>\n",
       "      <td>2012-10-11</td>\n",
       "      <td>1</td>\n",
       "      <td>0</td>\n",
       "      <td>0</td>\n",
       "      <td>1</td>\n",
       "      <td>1</td>\n",
       "      <td>0</td>\n",
       "      <td>0</td>\n",
       "      <td>1</td>\n",
       "      <td>0</td>\n",
       "      <td>...</td>\n",
       "      <td>1</td>\n",
       "      <td>0</td>\n",
       "      <td>1</td>\n",
       "      <td>0</td>\n",
       "      <td>0</td>\n",
       "      <td>0</td>\n",
       "      <td>1</td>\n",
       "      <td>0</td>\n",
       "      <td>0</td>\n",
       "      <td>0</td>\n",
       "    </tr>\n",
       "    <tr>\n",
       "      <th>4</th>\n",
       "      <td>2013-01-08</td>\n",
       "      <td>0</td>\n",
       "      <td>0</td>\n",
       "      <td>1</td>\n",
       "      <td>0</td>\n",
       "      <td>1</td>\n",
       "      <td>0</td>\n",
       "      <td>1</td>\n",
       "      <td>0</td>\n",
       "      <td>0</td>\n",
       "      <td>...</td>\n",
       "      <td>1</td>\n",
       "      <td>0</td>\n",
       "      <td>0</td>\n",
       "      <td>0</td>\n",
       "      <td>0</td>\n",
       "      <td>1</td>\n",
       "      <td>0</td>\n",
       "      <td>0</td>\n",
       "      <td>0</td>\n",
       "      <td>1</td>\n",
       "    </tr>\n",
       "  </tbody>\n",
       "</table>\n",
       "<p>5 rows × 67 columns</p>\n",
       "</div>"
      ],
      "text/plain": [
       "  date_posted  label  school_metro_rural  school_metro_suburban  \\\n",
       "0  2013-04-14      1                   0                      0   \n",
       "1  2012-04-07      1                   0                      0   \n",
       "2  2012-01-30      0                   0                      0   \n",
       "3  2012-10-11      1                   0                      0   \n",
       "4  2013-01-08      0                   0                      1   \n",
       "\n",
       "   school_metro_urban  school_charter_f  school_charter_t  school_magnet_f  \\\n",
       "0                   1                 1                 0                1   \n",
       "1                   1                 1                 0                1   \n",
       "2                   1                 1                 0                1   \n",
       "3                   1                 1                 0                0   \n",
       "4                   0                 1                 0                1   \n",
       "\n",
       "   school_magnet_t  primary_focus_subject_Applied Sciences  ...  \\\n",
       "0                0                                       0  ...   \n",
       "1                0                                       0  ...   \n",
       "2                0                                       0  ...   \n",
       "3                1                                       0  ...   \n",
       "4                0                                       0  ...   \n",
       "\n",
       "   eligible_double_your_impact_match_f  eligible_double_your_impact_match_t  \\\n",
       "0                                    1                                    0   \n",
       "1                                    0                                    1   \n",
       "2                                    1                                    0   \n",
       "3                                    1                                    0   \n",
       "4                                    1                                    0   \n",
       "\n",
       "   total_price_including_optional_support_binned_(91.999, 345.81]  \\\n",
       "0                                                  0                \n",
       "1                                                  1                \n",
       "2                                                  0                \n",
       "3                                                  1                \n",
       "4                                                  0                \n",
       "\n",
       "   total_price_including_optional_support_binned_(345.81, 510.5]  \\\n",
       "0                                                  0               \n",
       "1                                                  0               \n",
       "2                                                  0               \n",
       "3                                                  0               \n",
       "4                                                  0               \n",
       "\n",
       "   total_price_including_optional_support_binned_(510.5, 752.96]  \\\n",
       "0                                                  0               \n",
       "1                                                  0               \n",
       "2                                                  0               \n",
       "3                                                  0               \n",
       "4                                                  0               \n",
       "\n",
       "   total_price_including_optional_support_binned_(752.96, 164382.84]  \\\n",
       "0                                                  1                   \n",
       "1                                                  0                   \n",
       "2                                                  1                   \n",
       "3                                                  0                   \n",
       "4                                                  1                   \n",
       "\n",
       "   students_reached_binned_(0.999, 23.0]  \\\n",
       "0                                      0   \n",
       "1                                      0   \n",
       "2                                      0   \n",
       "3                                      1   \n",
       "4                                      0   \n",
       "\n",
       "   students_reached_binned_(23.0, 30.0]  \\\n",
       "0                                     0   \n",
       "1                                     1   \n",
       "2                                     0   \n",
       "3                                     0   \n",
       "4                                     0   \n",
       "\n",
       "   students_reached_binned_(30.0, 100.0]  \\\n",
       "0                                      1   \n",
       "1                                      0   \n",
       "2                                      1   \n",
       "3                                      0   \n",
       "4                                      0   \n",
       "\n",
       "   students_reached_binned_(100.0, 12143.0]  \n",
       "0                                         0  \n",
       "1                                         0  \n",
       "2                                         0  \n",
       "3                                         0  \n",
       "4                                         1  \n",
       "\n",
       "[5 rows x 67 columns]"
      ]
     },
     "execution_count": 21,
     "metadata": {},
     "output_type": "execute_result"
    }
   ],
   "source": [
    "# turn variables into dummies\n",
    "df_final = pp.feat_binary(df_discr, col_to_binary)\n",
    "df_final.head()"
   ]
  },
  {
   "cell_type": "markdown",
   "metadata": {},
   "source": [
    "## Run variations of models: \n",
    "### Decision trees, KNN, Logistic Regression, Linear SVM, Random forests, Bagging, Boosting"
   ]
  },
  {
   "cell_type": "code",
   "execution_count": 108,
   "metadata": {},
   "outputs": [],
   "source": [
    "windows = [dt.datetime(2012,1,1), dt.datetime(2012,7,1), dt.datetime(2013,1,1), dt.datetime(2013,7,1), dt.datetime(2014,1,1)]\n",
    "pred_time = 60 #days\n",
    "label_col = 'label'\n",
    "split_col = 'date_posted'\n",
    "feature_cols= list(df_final.columns)\n",
    "feature_cols.remove('label')\n",
    "feature_cols.remove('date_posted')\n",
    "seed=12345"
   ]
  },
  {
   "cell_type": "code",
   "execution_count": 109,
   "metadata": {},
   "outputs": [],
   "source": [
    "models = [\n",
    "    {'type': 'Dtree', 'clf': pp.dtree_score, 'criteria': ['entropy', 'gini'], 'depth': [10,20,30],'min_leaf': [100, 300,500], 'seed': seed},\n",
    "    {'type': 'LR', 'clf': lr_score, 'p': ['l1','l2'], 'c': [0.1, 1.0, 10.0, 100.0], 'solver': ['liblinear'], 'seed': seed},\n",
    "    {'type': 'SVM', 'clf': linsvc_score, 'p': ['l2'], 'c': [0.1, 1.0, 10.0, 100.0], 'seed': seed},\n",
    "    {'type': 'Bagging_dtree', 'clf': bagging_score, 'n': [10, 50, 100], 'base':[None], 'seed':seed},\n",
    "    {'type': 'ADABoost_dtree', 'clf': adaboost_score, 'n': [10, 50, 100], 'base':[None], 'seed':seed},\n",
    "    {'type': 'Random Forest', 'clf': rforest_score, 'n': [10, 50, 100], 'criterion': ['entropy', 'gini'], 'seed': seed},\n",
    "    {'type': 'KNN', 'clf': knn_score, 'n': [5], 'weights': ['uniform','distance'], 'distance_metric':['minkowski'],'p': [1,2]}\n",
    "]\n",
    "\n",
    "#models = [{'type': 'Random Forest', 'clf': rforest_score, 'n': [10, 50, 100], 'criterion': ['entropy', 'gini'], 'seed': seed}]\n",
    "thresholds = [1, 2, 5, 10, 20,30, 50]\n"
   ]
  },
  {
   "cell_type": "code",
   "execution_count": null,
   "metadata": {},
   "outputs": [],
   "source": [
    "resdf = pp.run_models(models, thresholds, windows, df_final, feature_cols, label_col, split_col, pred_time, pred_unit = 'day', filename = 'finalrun.csv')\n",
    "resdf.head()"
   ]
  },
  {
   "cell_type": "code",
   "execution_count": 110,
   "metadata": {
    "scrolled": true
   },
   "outputs": [
    {
     "name": "stdout",
     "output_type": "stream",
     "text": [
      "model: Dtree, run: 1\n",
      "criteria: entropy, depth: 10, min_leaf: 100, seed: 12345\n",
      "criteria: entropy, depth: 10, min_leaf: 300, seed: 12345\n",
      "criteria: entropy, depth: 10, min_leaf: 500, seed: 12345\n",
      "criteria: entropy, depth: 20, min_leaf: 100, seed: 12345\n",
      "criteria: entropy, depth: 20, min_leaf: 300, seed: 12345\n",
      "criteria: entropy, depth: 20, min_leaf: 500, seed: 12345\n",
      "criteria: entropy, depth: 30, min_leaf: 100, seed: 12345\n",
      "criteria: entropy, depth: 30, min_leaf: 300, seed: 12345\n",
      "criteria: entropy, depth: 30, min_leaf: 500, seed: 12345\n",
      "criteria: gini, depth: 10, min_leaf: 100, seed: 12345\n",
      "criteria: gini, depth: 10, min_leaf: 300, seed: 12345\n",
      "criteria: gini, depth: 10, min_leaf: 500, seed: 12345\n",
      "criteria: gini, depth: 20, min_leaf: 100, seed: 12345\n",
      "criteria: gini, depth: 20, min_leaf: 300, seed: 12345\n",
      "criteria: gini, depth: 20, min_leaf: 500, seed: 12345\n",
      "criteria: gini, depth: 30, min_leaf: 100, seed: 12345\n",
      "criteria: gini, depth: 30, min_leaf: 300, seed: 12345\n",
      "criteria: gini, depth: 30, min_leaf: 500, seed: 12345\n",
      "model: LR, run: 1\n",
      "penalty: l1, c: 0.1, solver: liblinear, seed: 12345\n",
      "penalty: l1, c: 1.0, solver: liblinear, seed: 12345\n",
      "penalty: l1, c: 10.0, solver: liblinear, seed: 12345\n",
      "penalty: l1, c: 100.0, solver: liblinear, seed: 12345\n",
      "penalty: l2, c: 0.1, solver: liblinear, seed: 12345\n",
      "penalty: l2, c: 1.0, solver: liblinear, seed: 12345\n",
      "penalty: l2, c: 10.0, solver: liblinear, seed: 12345\n",
      "penalty: l2, c: 100.0, solver: liblinear, seed: 12345\n",
      "model: SVM, run: 1\n",
      "penalty: l2, c: 0.1, seed: 12345\n",
      "penalty: l2, c: 1.0, seed: 12345\n",
      "penalty: l2, c: 10.0, seed: 12345\n"
     ]
    },
    {
     "name": "stderr",
     "output_type": "stream",
     "text": [
      "/anaconda3/lib/python3.7/site-packages/sklearn/svm/base.py:931: ConvergenceWarning: Liblinear failed to converge, increase the number of iterations.\n",
      "  \"the number of iterations.\", ConvergenceWarning)\n"
     ]
    },
    {
     "name": "stdout",
     "output_type": "stream",
     "text": [
      "penalty: l2, c: 100.0, seed: 12345\n"
     ]
    },
    {
     "name": "stderr",
     "output_type": "stream",
     "text": [
      "/anaconda3/lib/python3.7/site-packages/sklearn/svm/base.py:931: ConvergenceWarning: Liblinear failed to converge, increase the number of iterations.\n",
      "  \"the number of iterations.\", ConvergenceWarning)\n"
     ]
    },
    {
     "name": "stdout",
     "output_type": "stream",
     "text": [
      "model: Bagging_dtree, run: 1\n",
      "model: ADABoost_dtree, run: 1\n",
      "model: Random Forest, run: 1\n",
      "model: KNN, run: 1\n",
      "n: 5, weights: uniform, distance: minkowski, p: 1\n",
      "n: 5, weights: uniform, distance: minkowski, p: 2\n",
      "n: 5, weights: distance, distance: minkowski, p: 1\n",
      "n: 5, weights: distance, distance: minkowski, p: 2\n",
      "model: Dtree, run: 2\n",
      "criteria: entropy, depth: 10, min_leaf: 100, seed: 12345\n",
      "criteria: entropy, depth: 10, min_leaf: 300, seed: 12345\n",
      "criteria: entropy, depth: 10, min_leaf: 500, seed: 12345\n",
      "criteria: entropy, depth: 20, min_leaf: 100, seed: 12345\n",
      "criteria: entropy, depth: 20, min_leaf: 300, seed: 12345\n",
      "criteria: entropy, depth: 20, min_leaf: 500, seed: 12345\n",
      "criteria: entropy, depth: 30, min_leaf: 100, seed: 12345\n",
      "criteria: entropy, depth: 30, min_leaf: 300, seed: 12345\n",
      "criteria: entropy, depth: 30, min_leaf: 500, seed: 12345\n",
      "criteria: gini, depth: 10, min_leaf: 100, seed: 12345\n",
      "criteria: gini, depth: 10, min_leaf: 300, seed: 12345\n",
      "criteria: gini, depth: 10, min_leaf: 500, seed: 12345\n",
      "criteria: gini, depth: 20, min_leaf: 100, seed: 12345\n",
      "criteria: gini, depth: 20, min_leaf: 300, seed: 12345\n",
      "criteria: gini, depth: 20, min_leaf: 500, seed: 12345\n",
      "criteria: gini, depth: 30, min_leaf: 100, seed: 12345\n",
      "criteria: gini, depth: 30, min_leaf: 300, seed: 12345\n",
      "criteria: gini, depth: 30, min_leaf: 500, seed: 12345\n",
      "model: LR, run: 2\n",
      "penalty: l1, c: 0.1, solver: liblinear, seed: 12345\n",
      "penalty: l1, c: 1.0, solver: liblinear, seed: 12345\n",
      "penalty: l1, c: 10.0, solver: liblinear, seed: 12345\n",
      "penalty: l1, c: 100.0, solver: liblinear, seed: 12345\n",
      "penalty: l2, c: 0.1, solver: liblinear, seed: 12345\n",
      "penalty: l2, c: 1.0, solver: liblinear, seed: 12345\n",
      "penalty: l2, c: 10.0, solver: liblinear, seed: 12345\n",
      "penalty: l2, c: 100.0, solver: liblinear, seed: 12345\n",
      "model: SVM, run: 2\n",
      "penalty: l2, c: 0.1, seed: 12345\n",
      "penalty: l2, c: 1.0, seed: 12345\n",
      "penalty: l2, c: 10.0, seed: 12345\n"
     ]
    },
    {
     "name": "stderr",
     "output_type": "stream",
     "text": [
      "/anaconda3/lib/python3.7/site-packages/sklearn/svm/base.py:931: ConvergenceWarning: Liblinear failed to converge, increase the number of iterations.\n",
      "  \"the number of iterations.\", ConvergenceWarning)\n"
     ]
    },
    {
     "name": "stdout",
     "output_type": "stream",
     "text": [
      "penalty: l2, c: 100.0, seed: 12345\n"
     ]
    },
    {
     "name": "stderr",
     "output_type": "stream",
     "text": [
      "/anaconda3/lib/python3.7/site-packages/sklearn/svm/base.py:931: ConvergenceWarning: Liblinear failed to converge, increase the number of iterations.\n",
      "  \"the number of iterations.\", ConvergenceWarning)\n"
     ]
    },
    {
     "name": "stdout",
     "output_type": "stream",
     "text": [
      "model: Bagging_dtree, run: 2\n",
      "model: ADABoost_dtree, run: 2\n",
      "model: Random Forest, run: 2\n",
      "model: KNN, run: 2\n",
      "n: 5, weights: uniform, distance: minkowski, p: 1\n",
      "n: 5, weights: uniform, distance: minkowski, p: 2\n",
      "n: 5, weights: distance, distance: minkowski, p: 1\n",
      "n: 5, weights: distance, distance: minkowski, p: 2\n",
      "model: Dtree, run: 3\n",
      "criteria: entropy, depth: 10, min_leaf: 100, seed: 12345\n",
      "criteria: entropy, depth: 10, min_leaf: 300, seed: 12345\n",
      "criteria: entropy, depth: 10, min_leaf: 500, seed: 12345\n",
      "criteria: entropy, depth: 20, min_leaf: 100, seed: 12345\n",
      "criteria: entropy, depth: 20, min_leaf: 300, seed: 12345\n",
      "criteria: entropy, depth: 20, min_leaf: 500, seed: 12345\n",
      "criteria: entropy, depth: 30, min_leaf: 100, seed: 12345\n",
      "criteria: entropy, depth: 30, min_leaf: 300, seed: 12345\n",
      "criteria: entropy, depth: 30, min_leaf: 500, seed: 12345\n",
      "criteria: gini, depth: 10, min_leaf: 100, seed: 12345\n",
      "criteria: gini, depth: 10, min_leaf: 300, seed: 12345\n",
      "criteria: gini, depth: 10, min_leaf: 500, seed: 12345\n",
      "criteria: gini, depth: 20, min_leaf: 100, seed: 12345\n",
      "criteria: gini, depth: 20, min_leaf: 300, seed: 12345\n",
      "criteria: gini, depth: 20, min_leaf: 500, seed: 12345\n",
      "criteria: gini, depth: 30, min_leaf: 100, seed: 12345\n",
      "criteria: gini, depth: 30, min_leaf: 300, seed: 12345\n",
      "criteria: gini, depth: 30, min_leaf: 500, seed: 12345\n",
      "model: LR, run: 3\n",
      "penalty: l1, c: 0.1, solver: liblinear, seed: 12345\n",
      "penalty: l1, c: 1.0, solver: liblinear, seed: 12345\n",
      "penalty: l1, c: 10.0, solver: liblinear, seed: 12345\n",
      "penalty: l1, c: 100.0, solver: liblinear, seed: 12345\n",
      "penalty: l2, c: 0.1, solver: liblinear, seed: 12345\n",
      "penalty: l2, c: 1.0, solver: liblinear, seed: 12345\n",
      "penalty: l2, c: 10.0, solver: liblinear, seed: 12345\n",
      "penalty: l2, c: 100.0, solver: liblinear, seed: 12345\n",
      "model: SVM, run: 3\n",
      "penalty: l2, c: 0.1, seed: 12345\n",
      "penalty: l2, c: 1.0, seed: 12345\n",
      "penalty: l2, c: 10.0, seed: 12345\n"
     ]
    },
    {
     "name": "stderr",
     "output_type": "stream",
     "text": [
      "/anaconda3/lib/python3.7/site-packages/sklearn/svm/base.py:931: ConvergenceWarning: Liblinear failed to converge, increase the number of iterations.\n",
      "  \"the number of iterations.\", ConvergenceWarning)\n"
     ]
    },
    {
     "name": "stdout",
     "output_type": "stream",
     "text": [
      "penalty: l2, c: 100.0, seed: 12345\n"
     ]
    },
    {
     "name": "stderr",
     "output_type": "stream",
     "text": [
      "/anaconda3/lib/python3.7/site-packages/sklearn/svm/base.py:931: ConvergenceWarning: Liblinear failed to converge, increase the number of iterations.\n",
      "  \"the number of iterations.\", ConvergenceWarning)\n"
     ]
    },
    {
     "name": "stdout",
     "output_type": "stream",
     "text": [
      "model: Bagging_dtree, run: 3\n",
      "model: ADABoost_dtree, run: 3\n",
      "model: Random Forest, run: 3\n",
      "model: KNN, run: 3\n",
      "n: 5, weights: uniform, distance: minkowski, p: 1\n",
      "n: 5, weights: uniform, distance: minkowski, p: 2\n",
      "n: 5, weights: distance, distance: minkowski, p: 1\n",
      "n: 5, weights: distance, distance: minkowski, p: 2\n"
     ]
    }
   ],
   "source": [
    "results = []\n",
    "\n",
    "for i in range(1, len(windows)-1):\n",
    "    train_start = windows[0]\n",
    "    train_end = windows[i]\n",
    "    test_end = windows[i+1]\n",
    "    \n",
    "    #split data\n",
    "    x_train,y_train,x_test,y_test = pp.single_train_test_set(df_final, \n",
    "                                                          feature_cols, \n",
    "                                                          label_col, \n",
    "                                                          split_col, \n",
    "                                                          train_start,\n",
    "                                                          train_end, \n",
    "                                                          test_end, \n",
    "                                                          pred_time=pred_time)\n",
    "    \n",
    "    \n",
    "    baseline = sum(y_test)/len(y_test)\n",
    "    #run models\n",
    "    for clf in models:\n",
    "        modeltype = clf['type']\n",
    "        func = clf['clf']\n",
    "        printinfo = 'model: {}, run: {}'.format(modeltype, i)\n",
    "        print(printinfo)\n",
    "        if modeltype == 'Dtree':\n",
    "            seed = clf['seed']\n",
    "            for c in clf['criteria']:\n",
    "                for d in clf['depth']:\n",
    "                    for l in clf['min_leaf']:\n",
    "                        #run model\n",
    "                        info = 'criteria: {}, depth: {}, min_leaf: {}, seed: {}'.format(c, d, l, seed)\n",
    "                        print(info)\n",
    "                        scores = func(x_train, y_train, x_test, criteria = c, depth = d, min_leaf = l, seed=seed)\n",
    "                        for pct_pop in thresholds:\n",
    "                            acc, prec, rec, f1, auc = all_metrics(y_test, scores, pct_pop)\n",
    "                            tmp = {'baseline': baseline, 'train_set_num': i, 'train_start': train_start, 'test_start': train_end,'type': modeltype, \n",
    "                                   'details': info, 'threshold_pct': pct_pop, 'precision': prec, 'recall': rec, 'auc': auc}\n",
    "                            results.append(tmp)\n",
    "                            \n",
    "        elif modeltype == 'LR':\n",
    "            seed = clf['seed']\n",
    "            for p in clf['p']:\n",
    "                for c in clf['c']:\n",
    "                    for s in clf['solver']:\n",
    "                        #print(p)\n",
    "                        info = 'penalty: {}, c: {}, solver: {}, seed: {}'.format(p, c, s, seed)\n",
    "                        print(info)\n",
    "                        scores = func(x_train, y_train, x_test, p = p, c = c, solver = s, seed=seed)\n",
    "                        for pct_pop in thresholds:\n",
    "                            acc, prec, rec, f1, auc = all_metrics(y_test, scores, pct_pop)\n",
    "                            tmp = {'baseline': baseline,'train_set_num': i, 'train_start': train_start, 'test_start': train_end,'type': modeltype, \n",
    "                                   'details': info, 'threshold_pct': pct_pop, 'precision': prec, 'recall': rec, 'auc': auc}\n",
    "                            results.append(tmp)\n",
    "                        \n",
    "        elif modeltype == 'SVM':\n",
    "            seed = clf['seed']\n",
    "            for p in clf['p']:\n",
    "                for c in clf['c']:\n",
    "                    info = 'penalty: {}, c: {}, seed: {}'.format(p, c, seed)\n",
    "                    print(info)\n",
    "                    scores = func(x_train, y_train, x_test, p =p, c=c, seed=seed)\n",
    "                    for pct_pop in thresholds:\n",
    "                        acc, prec, rec, f1, auc = all_metrics(y_test, scores, pct_pop)\n",
    "                        tmp = {'baseline': baseline,'train_set_num': i, 'train_start': train_start, 'test_start': train_end,'type': modeltype, \n",
    "                               'details': info, 'threshold_pct': pct_pop, 'precision': prec, 'recall': rec, 'auc': auc}\n",
    "                        results.append(tmp)\n",
    "                            \n",
    "        elif modeltype == 'KNN':\n",
    "            for n in clf['n']:\n",
    "                for w in clf['weights']:\n",
    "                    for d in clf['distance_metric']:\n",
    "                        for p in clf['p']:\n",
    "                            info = 'n: {}, weights: {}, distance: {}, p: {}'.format(n, w, d, p)\n",
    "                            print(info)\n",
    "                            scores = func(x_train, y_train, x_test, n = n, weights = w, distance_metric = d, p=p)\n",
    "                            #print(list(scores))\n",
    "                            for pct_pop in thresholds:\n",
    "                                acc, prec, rec, f1, auc = all_metrics(y_test, scores, pct_pop)\n",
    "                                tmp = {'baseline': baseline,'train_set_num': i, 'train_start': train_start, 'test_start': train_end,'type': modeltype, \n",
    "                                       'details': info, 'threshold_pct': pct_pop, 'precision': prec, 'recall': rec, 'auc': auc}\n",
    "                                results.append(tmp)\n",
    "        \n",
    "        elif modeltype == 'Bagging_dtree':\n",
    "            seed = clf['seed']\n",
    "            for n in clf['n']:\n",
    "                for b in clf['base']:\n",
    "                    info = 'n: {}, base: {}'.format(n,b)\n",
    "                    scores = func(x_train, y_train, x_test, n = n, base = b, seed=seed)\n",
    "                    for pct_pop in thresholds:\n",
    "                        acc, prec, rec, f1, auc = all_metrics(y_test, scores, pct_pop)\n",
    "                        tmp = {'baseline': baseline,'train_set_num': i, 'train_start': train_start, 'test_start': train_end,'type': modeltype, \n",
    "                               'details': info, 'threshold_pct': pct_pop, 'precision': prec, 'recall': rec, 'auc': auc}\n",
    "                        results.append(tmp)\n",
    "        \n",
    "        elif modeltype == 'ADABoost_dtree':\n",
    "            seed = clf['seed']\n",
    "            for n in clf['n']:\n",
    "                for b in clf['base']:\n",
    "                    info = 'n: {}, base: {}'.format(n,b)\n",
    "                    scores = func(x_train, y_train, x_test, n = n, base = b, seed=seed)\n",
    "                    for pct_pop in thresholds:\n",
    "                        acc, prec, rec, f1, auc = all_metrics(y_test, scores, pct_pop)\n",
    "                        tmp = {'baseline': baseline,'train_set_num': i, 'train_start': train_start, 'test_start': train_end,'type': modeltype, \n",
    "                               'details': info, 'threshold_pct': pct_pop, 'precision': prec, 'recall': rec, 'auc': auc}\n",
    "                        results.append(tmp)\n",
    "            \n",
    "            \n",
    "        elif modeltype == 'Random Forest':\n",
    "            seed = clf['seed']\n",
    "            for n in clf['n']:\n",
    "                for c in clf['criterion']:\n",
    "                    info = 'n: {}, criterion: {}'.format(n,c)\n",
    "                    scores = func(x_train, y_train, x_test, n = n, criterion = c, seed=seed)\n",
    "                    for pct_pop in thresholds:\n",
    "                        acc, prec, rec, f1, auc = all_metrics(y_test, scores, pct_pop)\n",
    "                        tmp = {'baseline': baseline,'train_set_num': i, 'train_start': train_start, 'test_start': train_end,'type': modeltype, \n",
    "                               'details': info, 'threshold_pct': pct_pop, 'precision': prec, 'recall': rec, 'auc': auc}\n",
    "                        results.append(tmp)\n",
    "                    \n",
    "                    \n",
    "resdf=pd.DataFrame(results, columns = ['type', 'details', 'baseline', 'threshold_pct', 'precision', 'recall', 'auc','train_set_num', 'train_start', 'test_start'])    "
   ]
  },
  {
   "cell_type": "markdown",
   "metadata": {},
   "source": [
    "#### Testing code"
   ]
  },
  {
   "cell_type": "code",
   "execution_count": 30,
   "metadata": {},
   "outputs": [],
   "source": [
    "#### Use temporal validation to split into training/test sets\n",
    "\n",
    "\n",
    "\n",
    "x_train1,y_train1,x_test1,y_test1 = pp.single_train_test_set(df_final, \n",
    "                                                          feature_cols, \n",
    "                                                          label_col, \n",
    "                                                          split_col, \n",
    "                                                          windows[0],\n",
    "                                                          windows[1], \n",
    "                                                          windows[2], \n",
    "                                                          pred_time=60)\n",
    "\n",
    "x_train2, y_train2, x_test2, y_test2 = pp.single_train_test_set(df_final, \n",
    "                                                          feature_cols, \n",
    "                                                          label_col, \n",
    "                                                          split_col, \n",
    "                                                          windows[0],\n",
    "                                                          windows[2], \n",
    "                                                          windows[3], \n",
    "                                                          pred_time=60)\n",
    "\n",
    "x_train3, y_train3, x_test3, y_test3 = pp.single_train_test_set(df_final, \n",
    "                                                          feature_cols, \n",
    "                                                          label_col, \n",
    "                                                          split_col, \n",
    "                                                          windows[0],\n",
    "                                                          windows[3], \n",
    "                                                          windows[4], \n",
    "                                                          pred_time=60)"
   ]
  },
  {
   "cell_type": "code",
   "execution_count": 140,
   "metadata": {},
   "outputs": [
    {
     "data": {
      "text/plain": [
       "24492"
      ]
     },
     "execution_count": 140,
     "metadata": {},
     "output_type": "execute_result"
    }
   ],
   "source": [
    "import matplotlib.pyplot as plt\n",
    "x = lr_score(x_train1, y_train1, x_test1, p = 'l1', c = 10.0, solver = 'liblinear', seed=12345)\n",
    "precision_at_threshold(y_test1, x, 0)\n",
    "plot_pct_pop(y_test1, x)\n"
   ]
  },
  {
   "cell_type": "code",
   "execution_count": 137,
   "metadata": {},
   "outputs": [],
   "source": [
    "def plot_pct_pop(y_test, pred_scores):\n",
    "    '''\n",
    "    This function plots precision and recall on two axes with percent of population as the x-axis.\n",
    "    \n",
    "    y_test: test set labels\n",
    "    pred_scores: predicted scores\n",
    "    \n",
    "    return: None\n",
    "    '''\n",
    "    pct_pop = np.array([1, 10, 20, 30, 40, 50, 60, 70, 80, 90, 99])\n",
    "    prec = []\n",
    "    rec = []\n",
    "    for each in pct_pop:\n",
    "        #quantile = 100 - each\n",
    "        #t = np.percentile(pred_scores, quantile)\n",
    "        a, p, r, f1, auc = all_metrics(y_test, pred_scores, each)\n",
    "        #p = precision_at_threshold(y_test, pred_scores, t)\n",
    "        #r = recall_at_threshold(y_test, pred_scores, t)\n",
    "        prec.append(p)\n",
    "        rec.append(r)\n",
    "    \n",
    "    #pct_pop = 1-thresholds\n",
    "    fig, ax1 = plt.subplots()\n",
    "\n",
    "    color = 'tab:blue'\n",
    "    ax1.set_xlabel('percent of population')\n",
    "    ax1.set_ylabel('precision', color=color)\n",
    "    ax1.plot(pct_pop, prec, color=color)\n",
    "    ax1.tick_params(axis='y', labelcolor=color)\n",
    "    plt.yticks(np.arange(0, 1.2, step=0.2))\n",
    "    ax2 = ax1.twinx()  # instantiate a second axes that shares the same x-axis\n",
    "\n",
    "    color = 'tab:red'\n",
    "    ax2.set_ylabel('recall', color=color)  # we already handled the x-label with ax1\n",
    "    ax2.plot(pct_pop, rec, color=color)\n",
    "    ax2.tick_params(axis='y', labelcolor=color)\n",
    "    plt.yticks(np.arange(0, 1.2, step=0.2))\n",
    "    fig.tight_layout()  # otherwise the right y-label is slightly clipped\n",
    "    plt.show()"
   ]
  },
  {
   "cell_type": "code",
   "execution_count": null,
   "metadata": {},
   "outputs": [],
   "source": []
  }
 ],
 "metadata": {
  "kernelspec": {
   "display_name": "Python 3",
   "language": "python",
   "name": "python3"
  },
  "language_info": {
   "codemirror_mode": {
    "name": "ipython",
    "version": 3
   },
   "file_extension": ".py",
   "mimetype": "text/x-python",
   "name": "python",
   "nbconvert_exporter": "python",
   "pygments_lexer": "ipython3",
   "version": "3.7.3"
  }
 },
 "nbformat": 4,
 "nbformat_minor": 2
}
