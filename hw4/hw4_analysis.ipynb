{
 "cells": [
  {
   "cell_type": "markdown",
   "metadata": {},
   "source": [
    "# Assignment 4"
   ]
  },
  {
   "cell_type": "code",
   "execution_count": 1,
   "metadata": {},
   "outputs": [],
   "source": [
    "import ml_pipeline as pp\n",
    "import pandas as pd\n",
    "import numpy as np\n",
    "from sklearn.cluster import KMeans\n",
    "import matplotlib.pyplot as plt\n",
    "import warnings\n",
    "warnings.filterwarnings('ignore')\n",
    "from sklearn.tree import DecisionTreeClassifier\n",
    "from IPython.display import Image"
   ]
  },
  {
   "cell_type": "markdown",
   "metadata": {},
   "source": [
    "## Load data"
   ]
  },
  {
   "cell_type": "code",
   "execution_count": 2,
   "metadata": {},
   "outputs": [],
   "source": [
    "filename = './data/projects_2012_2013.csv'\n",
    "df = pp.load_csv(filename)"
   ]
  },
  {
   "cell_type": "markdown",
   "metadata": {},
   "source": [
    "## Process data for clustering"
   ]
  },
  {
   "cell_type": "markdown",
   "metadata": {},
   "source": [
    "### Missing values"
   ]
  },
  {
   "cell_type": "code",
   "execution_count": 3,
   "metadata": {
    "scrolled": true
   },
   "outputs": [
    {
     "data": {
      "text/plain": [
       "['school_ncesid',\n",
       " 'school_metro',\n",
       " 'school_district',\n",
       " 'primary_focus_subject',\n",
       " 'primary_focus_area',\n",
       " 'secondary_focus_subject',\n",
       " 'secondary_focus_area',\n",
       " 'resource_type',\n",
       " 'grade_level',\n",
       " 'students_reached']"
      ]
     },
     "execution_count": 3,
     "metadata": {},
     "output_type": "execute_result"
    }
   ],
   "source": [
    "pp.na_col(df)"
   ]
  },
  {
   "cell_type": "code",
   "execution_count": 4,
   "metadata": {},
   "outputs": [],
   "source": [
    "cat_col = ['school_metro',\n",
    " 'school_district',\n",
    " 'primary_focus_subject',\n",
    " 'primary_focus_area',\n",
    " 'secondary_focus_subject',\n",
    " 'secondary_focus_area',\n",
    " 'resource_type',\n",
    " 'grade_level']\n",
    "for c in cat_col:\n",
    "    df_final = pp.na_fill_col(df, c, pp.most_freq)"
   ]
  },
  {
   "cell_type": "code",
   "execution_count": 5,
   "metadata": {},
   "outputs": [],
   "source": [
    "df_final = pp.na_fill_col(df, 'students_reached', np.nanmean)"
   ]
  },
  {
   "cell_type": "markdown",
   "metadata": {},
   "source": [
    "### Categorical variables to binary"
   ]
  },
  {
   "cell_type": "code",
   "execution_count": 6,
   "metadata": {},
   "outputs": [],
   "source": [
    "df_final = pp.feat_binary(df, ['school_metro','school_charter','primary_focus_subject','primary_focus_area', 'grade_level', 'resource_type'])"
   ]
  },
  {
   "cell_type": "markdown",
   "metadata": {},
   "source": [
    "### Normalization"
   ]
  },
  {
   "cell_type": "code",
   "execution_count": 7,
   "metadata": {},
   "outputs": [],
   "source": [
    "num_col = ['total_price_including_optional_support', 'students_reached']"
   ]
  },
  {
   "cell_type": "code",
   "execution_count": 8,
   "metadata": {},
   "outputs": [
    {
     "data": {
      "text/plain": [
       "MinMaxScaler(copy=True, feature_range=(0, 1))"
      ]
     },
     "execution_count": 8,
     "metadata": {},
     "output_type": "execute_result"
    }
   ],
   "source": [
    "pp.normalize_mult_minmax(df_final, num_col)"
   ]
  },
  {
   "cell_type": "markdown",
   "metadata": {},
   "source": [
    "### Given a k, generate k clusters using KMeans"
   ]
  },
  {
   "cell_type": "code",
   "execution_count": 9,
   "metadata": {},
   "outputs": [],
   "source": [
    "cat_feat = ['school_metro_rural',\n",
    " 'school_metro_suburban',\n",
    " 'school_metro_urban',\n",
    " 'school_charter_f',\n",
    " 'school_charter_t',\n",
    " 'primary_focus_subject_Applied Sciences',\n",
    " 'primary_focus_subject_Character Education',\n",
    " 'primary_focus_subject_Civics & Government',\n",
    " 'primary_focus_subject_College & Career Prep',\n",
    " 'primary_focus_subject_Community Service',\n",
    " 'primary_focus_subject_ESL',\n",
    " 'primary_focus_subject_Early Development',\n",
    " 'primary_focus_subject_Economics',\n",
    " 'primary_focus_subject_Environmental Science',\n",
    " 'primary_focus_subject_Extracurricular',\n",
    " 'primary_focus_subject_Foreign Languages',\n",
    " 'primary_focus_subject_Gym & Fitness',\n",
    " 'primary_focus_subject_Health & Life Science',\n",
    " 'primary_focus_subject_Health & Wellness',\n",
    " 'primary_focus_subject_History & Geography',\n",
    " 'primary_focus_subject_Literacy',\n",
    " 'primary_focus_subject_Literature & Writing',\n",
    " 'primary_focus_subject_Mathematics',\n",
    " 'primary_focus_subject_Music',\n",
    " 'primary_focus_subject_Nutrition',\n",
    " 'primary_focus_subject_Other',\n",
    " 'primary_focus_subject_Parent Involvement',\n",
    " 'primary_focus_subject_Performing Arts',\n",
    " 'primary_focus_subject_Social Sciences',\n",
    " 'primary_focus_subject_Special Needs',\n",
    " 'primary_focus_subject_Sports',\n",
    " 'primary_focus_subject_Visual Arts',\n",
    " 'primary_focus_area_Applied Learning',\n",
    " 'primary_focus_area_Health & Sports',\n",
    " 'primary_focus_area_History & Civics',\n",
    " 'primary_focus_area_Literacy & Language',\n",
    " 'primary_focus_area_Math & Science',\n",
    " 'primary_focus_area_Music & The Arts',\n",
    " 'primary_focus_area_Special Needs',\n",
    " 'grade_level_Grades 3-5',\n",
    " 'grade_level_Grades 6-8',\n",
    " 'grade_level_Grades 9-12',\n",
    " 'grade_level_Grades PreK-2',\n",
    " 'resource_type_Books',\n",
    " 'resource_type_Other',\n",
    " 'resource_type_Supplies',\n",
    " 'resource_type_Technology',\n",
    " 'resource_type_Trips',\n",
    " 'resource_type_Visitors']\n",
    "num_feat = ['total_price_including_optional_support', 'students_reached']\n",
    "features = cat_feat + num_feat"
   ]
  },
  {
   "cell_type": "code",
   "execution_count": 10,
   "metadata": {},
   "outputs": [],
   "source": [
    "df_final['cluster_prediction'] = pp.kmeans_label(KMeans(), {'n_clusters':2}, df_final[features])"
   ]
  },
  {
   "cell_type": "markdown",
   "metadata": {},
   "source": [
    "## Summary statistics for each cluster"
   ]
  },
  {
   "cell_type": "markdown",
   "metadata": {},
   "source": [
    "### Identify the number of data points in each cluster"
   ]
  },
  {
   "cell_type": "code",
   "execution_count": 11,
   "metadata": {},
   "outputs": [
    {
     "data": {
      "text/plain": [
       "cluster_prediction\n",
       "0    68910\n",
       "1    56066\n",
       "Name: cluster_prediction, dtype: int64"
      ]
     },
     "execution_count": 11,
     "metadata": {},
     "output_type": "execute_result"
    }
   ],
   "source": [
    "pp.cluster_size(df_final, 'cluster_prediction')"
   ]
  },
  {
   "cell_type": "markdown",
   "metadata": {},
   "source": [
    "### Summarize features in each cluster"
   ]
  },
  {
   "cell_type": "code",
   "execution_count": 12,
   "metadata": {
    "scrolled": true
   },
   "outputs": [
    {
     "data": {
      "text/html": [
       "<div>\n",
       "<style scoped>\n",
       "    .dataframe tbody tr th:only-of-type {\n",
       "        vertical-align: middle;\n",
       "    }\n",
       "\n",
       "    .dataframe tbody tr th {\n",
       "        vertical-align: top;\n",
       "    }\n",
       "\n",
       "    .dataframe thead th {\n",
       "        text-align: right;\n",
       "    }\n",
       "</style>\n",
       "<table border=\"1\" class=\"dataframe\">\n",
       "  <thead>\n",
       "    <tr style=\"text-align: right;\">\n",
       "      <th></th>\n",
       "      <th>cluster_prediction</th>\n",
       "      <th>0</th>\n",
       "      <th>1</th>\n",
       "    </tr>\n",
       "  </thead>\n",
       "  <tbody>\n",
       "    <tr>\n",
       "      <th>school_ncesid</th>\n",
       "      <th>mean</th>\n",
       "      <td>241081190704.2421</td>\n",
       "      <td>249454408156.13455</td>\n",
       "    </tr>\n",
       "    <tr>\n",
       "      <th>school_latitude</th>\n",
       "      <th>mean</th>\n",
       "      <td>36.791287451385664</td>\n",
       "      <td>36.87152599192029</td>\n",
       "    </tr>\n",
       "    <tr>\n",
       "      <th>school_longitude</th>\n",
       "      <th>mean</th>\n",
       "      <td>-96.57768940621045</td>\n",
       "      <td>-94.97633523199447</td>\n",
       "    </tr>\n",
       "    <tr>\n",
       "      <th>total_price_including_optional_support</th>\n",
       "      <th>mean</th>\n",
       "      <td>0.003799340983568518</td>\n",
       "      <td>0.002955617560942986</td>\n",
       "    </tr>\n",
       "    <tr>\n",
       "      <th>students_reached</th>\n",
       "      <th>mean</th>\n",
       "      <td>0.009849677512182001</td>\n",
       "      <td>0.0052326978559264865</td>\n",
       "    </tr>\n",
       "    <tr>\n",
       "      <th>school_metro_rural</th>\n",
       "      <th>mean</th>\n",
       "      <td>0.11919895515890291</td>\n",
       "      <td>0.11035208504262833</td>\n",
       "    </tr>\n",
       "    <tr>\n",
       "      <th>school_metro_suburban</th>\n",
       "      <th>mean</th>\n",
       "      <td>0.2665070381657234</td>\n",
       "      <td>0.2625298755038704</td>\n",
       "    </tr>\n",
       "    <tr>\n",
       "      <th>school_metro_urban</th>\n",
       "      <th>mean</th>\n",
       "      <td>0.6142940066753737</td>\n",
       "      <td>0.6271180394535012</td>\n",
       "    </tr>\n",
       "    <tr>\n",
       "      <th>school_charter_f</th>\n",
       "      <th>mean</th>\n",
       "      <td>0.9086489624147439</td>\n",
       "      <td>0.9047372739271573</td>\n",
       "    </tr>\n",
       "    <tr>\n",
       "      <th>school_charter_t</th>\n",
       "      <th>mean</th>\n",
       "      <td>0.09135103758525613</td>\n",
       "      <td>0.09526272607284272</td>\n",
       "    </tr>\n",
       "    <tr>\n",
       "      <th>primary_focus_subject_Applied Sciences</th>\n",
       "      <th>mean</th>\n",
       "      <td>0.08453054709040778</td>\n",
       "      <td>0.0</td>\n",
       "    </tr>\n",
       "    <tr>\n",
       "      <th>primary_focus_subject_Character Education</th>\n",
       "      <th>mean</th>\n",
       "      <td>0.032636772601944565</td>\n",
       "      <td>0.0</td>\n",
       "    </tr>\n",
       "    <tr>\n",
       "      <th>primary_focus_subject_Civics &amp; Government</th>\n",
       "      <th>mean</th>\n",
       "      <td>0.006210999854883181</td>\n",
       "      <td>0.0</td>\n",
       "    </tr>\n",
       "    <tr>\n",
       "      <th>primary_focus_subject_College &amp; Career Prep</th>\n",
       "      <th>mean</th>\n",
       "      <td>0.017660716877086053</td>\n",
       "      <td>0.0</td>\n",
       "    </tr>\n",
       "    <tr>\n",
       "      <th>primary_focus_subject_Community Service</th>\n",
       "      <th>mean</th>\n",
       "      <td>0.003207081700769119</td>\n",
       "      <td>0.0</td>\n",
       "    </tr>\n",
       "    <tr>\n",
       "      <th>primary_focus_subject_ESL</th>\n",
       "      <th>mean</th>\n",
       "      <td>0.0</td>\n",
       "      <td>0.0286091392287661</td>\n",
       "    </tr>\n",
       "    <tr>\n",
       "      <th>primary_focus_subject_Early Development</th>\n",
       "      <th>mean</th>\n",
       "      <td>0.037991583224495716</td>\n",
       "      <td>0.0</td>\n",
       "    </tr>\n",
       "    <tr>\n",
       "      <th>primary_focus_subject_Economics</th>\n",
       "      <th>mean</th>\n",
       "      <td>0.0071252358148309386</td>\n",
       "      <td>0.0</td>\n",
       "    </tr>\n",
       "    <tr>\n",
       "      <th>primary_focus_subject_Environmental Science</th>\n",
       "      <th>mean</th>\n",
       "      <td>0.07016398200551444</td>\n",
       "      <td>0.0</td>\n",
       "    </tr>\n",
       "    <tr>\n",
       "      <th>primary_focus_subject_Extracurricular</th>\n",
       "      <th>mean</th>\n",
       "      <td>0.006965607313887679</td>\n",
       "      <td>0.0</td>\n",
       "    </tr>\n",
       "    <tr>\n",
       "      <th>primary_focus_subject_Foreign Languages</th>\n",
       "      <th>mean</th>\n",
       "      <td>0.0</td>\n",
       "      <td>0.01601683729889773</td>\n",
       "    </tr>\n",
       "    <tr>\n",
       "      <th>primary_focus_subject_Gym &amp; Fitness</th>\n",
       "      <th>mean</th>\n",
       "      <td>0.018589464518937743</td>\n",
       "      <td>0.0</td>\n",
       "    </tr>\n",
       "    <tr>\n",
       "      <th>primary_focus_subject_Health &amp; Life Science</th>\n",
       "      <th>mean</th>\n",
       "      <td>0.06073138876795821</td>\n",
       "      <td>0.0</td>\n",
       "    </tr>\n",
       "    <tr>\n",
       "      <th>primary_focus_subject_Health &amp; Wellness</th>\n",
       "      <th>mean</th>\n",
       "      <td>0.021041938760702365</td>\n",
       "      <td>0.0</td>\n",
       "    </tr>\n",
       "    <tr>\n",
       "      <th>primary_focus_subject_History &amp; Geography</th>\n",
       "      <th>mean</th>\n",
       "      <td>0.03919605282252213</td>\n",
       "      <td>0.0</td>\n",
       "    </tr>\n",
       "    <tr>\n",
       "      <th>primary_focus_subject_Literacy</th>\n",
       "      <th>mean</th>\n",
       "      <td>0.0</td>\n",
       "      <td>0.6674811828915921</td>\n",
       "    </tr>\n",
       "    <tr>\n",
       "      <th>primary_focus_subject_Literature &amp; Writing</th>\n",
       "      <th>mean</th>\n",
       "      <td>0.0</td>\n",
       "      <td>0.2878928405807441</td>\n",
       "    </tr>\n",
       "    <tr>\n",
       "      <th>primary_focus_subject_Mathematics</th>\n",
       "      <th>mean</th>\n",
       "      <td>0.24465244521840082</td>\n",
       "      <td>0.0</td>\n",
       "    </tr>\n",
       "    <tr>\n",
       "      <th>primary_focus_subject_Music</th>\n",
       "      <th>mean</th>\n",
       "      <td>0.05704542156435931</td>\n",
       "      <td>0.0</td>\n",
       "    </tr>\n",
       "    <tr>\n",
       "      <th>primary_focus_subject_Nutrition</th>\n",
       "      <th>mean</th>\n",
       "      <td>0.0027572195617472065</td>\n",
       "      <td>0.0</td>\n",
       "    </tr>\n",
       "    <tr>\n",
       "      <th>primary_focus_subject_Other</th>\n",
       "      <th>mean</th>\n",
       "      <td>0.026251632564214193</td>\n",
       "      <td>0.0</td>\n",
       "    </tr>\n",
       "    <tr>\n",
       "      <th>primary_focus_subject_Parent Involvement</th>\n",
       "      <th>mean</th>\n",
       "      <td>0.0018574952837033811</td>\n",
       "      <td>0.0</td>\n",
       "    </tr>\n",
       "    <tr>\n",
       "      <th>primary_focus_subject_Performing Arts</th>\n",
       "      <th>mean</th>\n",
       "      <td>0.024408648962414743</td>\n",
       "      <td>0.0</td>\n",
       "    </tr>\n",
       "    <tr>\n",
       "      <th>primary_focus_subject_Social Sciences</th>\n",
       "      <th>mean</th>\n",
       "      <td>0.02231896676824844</td>\n",
       "      <td>0.0</td>\n",
       "    </tr>\n",
       "    <tr>\n",
       "      <th>primary_focus_subject_Special Needs</th>\n",
       "      <th>mean</th>\n",
       "      <td>0.1211435205340299</td>\n",
       "      <td>0.0</td>\n",
       "    </tr>\n",
       "    <tr>\n",
       "      <th>primary_focus_subject_Sports</th>\n",
       "      <th>mean</th>\n",
       "      <td>0.00832970541285735</td>\n",
       "      <td>0.0</td>\n",
       "    </tr>\n",
       "    <tr>\n",
       "      <th>primary_focus_subject_Visual Arts</th>\n",
       "      <th>mean</th>\n",
       "      <td>0.08518357277608475</td>\n",
       "      <td>0.0</td>\n",
       "    </tr>\n",
       "    <tr>\n",
       "      <th>primary_focus_area_Applied Learning</th>\n",
       "      <th>mean</th>\n",
       "      <td>0.1265708895661007</td>\n",
       "      <td>0.0</td>\n",
       "    </tr>\n",
       "    <tr>\n",
       "      <th>primary_focus_area_Health &amp; Sports</th>\n",
       "      <th>mean</th>\n",
       "      <td>0.05071832825424467</td>\n",
       "      <td>0.0</td>\n",
       "    </tr>\n",
       "    <tr>\n",
       "      <th>primary_focus_area_History &amp; Civics</th>\n",
       "      <th>mean</th>\n",
       "      <td>0.0748512552604847</td>\n",
       "      <td>0.0</td>\n",
       "    </tr>\n",
       "    <tr>\n",
       "      <th>primary_focus_area_Literacy &amp; Language</th>\n",
       "      <th>mean</th>\n",
       "      <td>0</td>\n",
       "      <td>1</td>\n",
       "    </tr>\n",
       "    <tr>\n",
       "      <th>primary_focus_area_Math &amp; Science</th>\n",
       "      <th>mean</th>\n",
       "      <td>0.4600783630822812</td>\n",
       "      <td>0.0</td>\n",
       "    </tr>\n",
       "    <tr>\n",
       "      <th>primary_focus_area_Music &amp; The Arts</th>\n",
       "      <th>mean</th>\n",
       "      <td>0.1666376433028588</td>\n",
       "      <td>0.0</td>\n",
       "    </tr>\n",
       "    <tr>\n",
       "      <th>primary_focus_area_Special Needs</th>\n",
       "      <th>mean</th>\n",
       "      <td>0.1211435205340299</td>\n",
       "      <td>0.0</td>\n",
       "    </tr>\n",
       "    <tr>\n",
       "      <th>grade_level_Grades 3-5</th>\n",
       "      <th>mean</th>\n",
       "      <td>0.31259613989261353</td>\n",
       "      <td>0.3157171904541077</td>\n",
       "    </tr>\n",
       "    <tr>\n",
       "      <th>grade_level_Grades 6-8</th>\n",
       "      <th>mean</th>\n",
       "      <td>0.20571760267014946</td>\n",
       "      <td>0.13025719687511148</td>\n",
       "    </tr>\n",
       "    <tr>\n",
       "      <th>grade_level_Grades 9-12</th>\n",
       "      <th>mean</th>\n",
       "      <td>0.17284864315774198</td>\n",
       "      <td>0.08224235722184568</td>\n",
       "    </tr>\n",
       "    <tr>\n",
       "      <th>grade_level_Grades PreK-2</th>\n",
       "      <th>mean</th>\n",
       "      <td>0.308837614279495</td>\n",
       "      <td>0.4717832554489352</td>\n",
       "    </tr>\n",
       "    <tr>\n",
       "      <th>resource_type_Books</th>\n",
       "      <th>mean</th>\n",
       "      <td>0.07251487447395154</td>\n",
       "      <td>0.34297078443263296</td>\n",
       "    </tr>\n",
       "    <tr>\n",
       "      <th>resource_type_Other</th>\n",
       "      <th>mean</th>\n",
       "      <td>0.12192715135684226</td>\n",
       "      <td>0.09506652873399209</td>\n",
       "    </tr>\n",
       "    <tr>\n",
       "      <th>resource_type_Supplies</th>\n",
       "      <th>mean</th>\n",
       "      <td>0.4201712378464664</td>\n",
       "      <td>0.2018335533121678</td>\n",
       "    </tr>\n",
       "    <tr>\n",
       "      <th>resource_type_Technology</th>\n",
       "      <th>mean</th>\n",
       "      <td>0.374561021622406</td>\n",
       "      <td>0.3583633574715514</td>\n",
       "    </tr>\n",
       "    <tr>\n",
       "      <th>resource_type_Trips</th>\n",
       "      <th>mean</th>\n",
       "      <td>0.00920040632709331</td>\n",
       "      <td>0.001212856276531231</td>\n",
       "    </tr>\n",
       "    <tr>\n",
       "      <th>resource_type_Visitors</th>\n",
       "      <th>mean</th>\n",
       "      <td>0.0016253083732404585</td>\n",
       "      <td>0.0005529197731245318</td>\n",
       "    </tr>\n",
       "  </tbody>\n",
       "</table>\n",
       "</div>"
      ],
      "text/plain": [
       "cluster_prediction                                                    0  \\\n",
       "school_ncesid                               mean      241081190704.2421   \n",
       "school_latitude                             mean     36.791287451385664   \n",
       "school_longitude                            mean     -96.57768940621045   \n",
       "total_price_including_optional_support      mean   0.003799340983568518   \n",
       "students_reached                            mean   0.009849677512182001   \n",
       "school_metro_rural                          mean    0.11919895515890291   \n",
       "school_metro_suburban                       mean     0.2665070381657234   \n",
       "school_metro_urban                          mean     0.6142940066753737   \n",
       "school_charter_f                            mean     0.9086489624147439   \n",
       "school_charter_t                            mean    0.09135103758525613   \n",
       "primary_focus_subject_Applied Sciences      mean    0.08453054709040778   \n",
       "primary_focus_subject_Character Education   mean   0.032636772601944565   \n",
       "primary_focus_subject_Civics & Government   mean   0.006210999854883181   \n",
       "primary_focus_subject_College & Career Prep mean   0.017660716877086053   \n",
       "primary_focus_subject_Community Service     mean   0.003207081700769119   \n",
       "primary_focus_subject_ESL                   mean                    0.0   \n",
       "primary_focus_subject_Early Development     mean   0.037991583224495716   \n",
       "primary_focus_subject_Economics             mean  0.0071252358148309386   \n",
       "primary_focus_subject_Environmental Science mean    0.07016398200551444   \n",
       "primary_focus_subject_Extracurricular       mean   0.006965607313887679   \n",
       "primary_focus_subject_Foreign Languages     mean                    0.0   \n",
       "primary_focus_subject_Gym & Fitness         mean   0.018589464518937743   \n",
       "primary_focus_subject_Health & Life Science mean    0.06073138876795821   \n",
       "primary_focus_subject_Health & Wellness     mean   0.021041938760702365   \n",
       "primary_focus_subject_History & Geography   mean    0.03919605282252213   \n",
       "primary_focus_subject_Literacy              mean                    0.0   \n",
       "primary_focus_subject_Literature & Writing  mean                    0.0   \n",
       "primary_focus_subject_Mathematics           mean    0.24465244521840082   \n",
       "primary_focus_subject_Music                 mean    0.05704542156435931   \n",
       "primary_focus_subject_Nutrition             mean  0.0027572195617472065   \n",
       "primary_focus_subject_Other                 mean   0.026251632564214193   \n",
       "primary_focus_subject_Parent Involvement    mean  0.0018574952837033811   \n",
       "primary_focus_subject_Performing Arts       mean   0.024408648962414743   \n",
       "primary_focus_subject_Social Sciences       mean    0.02231896676824844   \n",
       "primary_focus_subject_Special Needs         mean     0.1211435205340299   \n",
       "primary_focus_subject_Sports                mean    0.00832970541285735   \n",
       "primary_focus_subject_Visual Arts           mean    0.08518357277608475   \n",
       "primary_focus_area_Applied Learning         mean     0.1265708895661007   \n",
       "primary_focus_area_Health & Sports          mean    0.05071832825424467   \n",
       "primary_focus_area_History & Civics         mean     0.0748512552604847   \n",
       "primary_focus_area_Literacy & Language      mean                      0   \n",
       "primary_focus_area_Math & Science           mean     0.4600783630822812   \n",
       "primary_focus_area_Music & The Arts         mean     0.1666376433028588   \n",
       "primary_focus_area_Special Needs            mean     0.1211435205340299   \n",
       "grade_level_Grades 3-5                      mean    0.31259613989261353   \n",
       "grade_level_Grades 6-8                      mean    0.20571760267014946   \n",
       "grade_level_Grades 9-12                     mean    0.17284864315774198   \n",
       "grade_level_Grades PreK-2                   mean      0.308837614279495   \n",
       "resource_type_Books                         mean    0.07251487447395154   \n",
       "resource_type_Other                         mean    0.12192715135684226   \n",
       "resource_type_Supplies                      mean     0.4201712378464664   \n",
       "resource_type_Technology                    mean      0.374561021622406   \n",
       "resource_type_Trips                         mean    0.00920040632709331   \n",
       "resource_type_Visitors                      mean  0.0016253083732404585   \n",
       "\n",
       "cluster_prediction                                                    1  \n",
       "school_ncesid                               mean     249454408156.13455  \n",
       "school_latitude                             mean      36.87152599192029  \n",
       "school_longitude                            mean     -94.97633523199447  \n",
       "total_price_including_optional_support      mean   0.002955617560942986  \n",
       "students_reached                            mean  0.0052326978559264865  \n",
       "school_metro_rural                          mean    0.11035208504262833  \n",
       "school_metro_suburban                       mean     0.2625298755038704  \n",
       "school_metro_urban                          mean     0.6271180394535012  \n",
       "school_charter_f                            mean     0.9047372739271573  \n",
       "school_charter_t                            mean    0.09526272607284272  \n",
       "primary_focus_subject_Applied Sciences      mean                    0.0  \n",
       "primary_focus_subject_Character Education   mean                    0.0  \n",
       "primary_focus_subject_Civics & Government   mean                    0.0  \n",
       "primary_focus_subject_College & Career Prep mean                    0.0  \n",
       "primary_focus_subject_Community Service     mean                    0.0  \n",
       "primary_focus_subject_ESL                   mean     0.0286091392287661  \n",
       "primary_focus_subject_Early Development     mean                    0.0  \n",
       "primary_focus_subject_Economics             mean                    0.0  \n",
       "primary_focus_subject_Environmental Science mean                    0.0  \n",
       "primary_focus_subject_Extracurricular       mean                    0.0  \n",
       "primary_focus_subject_Foreign Languages     mean    0.01601683729889773  \n",
       "primary_focus_subject_Gym & Fitness         mean                    0.0  \n",
       "primary_focus_subject_Health & Life Science mean                    0.0  \n",
       "primary_focus_subject_Health & Wellness     mean                    0.0  \n",
       "primary_focus_subject_History & Geography   mean                    0.0  \n",
       "primary_focus_subject_Literacy              mean     0.6674811828915921  \n",
       "primary_focus_subject_Literature & Writing  mean     0.2878928405807441  \n",
       "primary_focus_subject_Mathematics           mean                    0.0  \n",
       "primary_focus_subject_Music                 mean                    0.0  \n",
       "primary_focus_subject_Nutrition             mean                    0.0  \n",
       "primary_focus_subject_Other                 mean                    0.0  \n",
       "primary_focus_subject_Parent Involvement    mean                    0.0  \n",
       "primary_focus_subject_Performing Arts       mean                    0.0  \n",
       "primary_focus_subject_Social Sciences       mean                    0.0  \n",
       "primary_focus_subject_Special Needs         mean                    0.0  \n",
       "primary_focus_subject_Sports                mean                    0.0  \n",
       "primary_focus_subject_Visual Arts           mean                    0.0  \n",
       "primary_focus_area_Applied Learning         mean                    0.0  \n",
       "primary_focus_area_Health & Sports          mean                    0.0  \n",
       "primary_focus_area_History & Civics         mean                    0.0  \n",
       "primary_focus_area_Literacy & Language      mean                      1  \n",
       "primary_focus_area_Math & Science           mean                    0.0  \n",
       "primary_focus_area_Music & The Arts         mean                    0.0  \n",
       "primary_focus_area_Special Needs            mean                    0.0  \n",
       "grade_level_Grades 3-5                      mean     0.3157171904541077  \n",
       "grade_level_Grades 6-8                      mean    0.13025719687511148  \n",
       "grade_level_Grades 9-12                     mean    0.08224235722184568  \n",
       "grade_level_Grades PreK-2                   mean     0.4717832554489352  \n",
       "resource_type_Books                         mean    0.34297078443263296  \n",
       "resource_type_Other                         mean    0.09506652873399209  \n",
       "resource_type_Supplies                      mean     0.2018335533121678  \n",
       "resource_type_Technology                    mean     0.3583633574715514  \n",
       "resource_type_Trips                         mean   0.001212856276531231  \n",
       "resource_type_Visitors                      mean  0.0005529197731245318  "
      ]
     },
     "execution_count": 12,
     "metadata": {},
     "output_type": "execute_result"
    }
   ],
   "source": [
    "pp.summarize_kmeans_features(df_final, 'cluster_prediction')"
   ]
  },
  {
   "cell_type": "code",
   "execution_count": 13,
   "metadata": {},
   "outputs": [
    {
     "data": {
      "image/png": "[encoded data removed]",
      "text/plain": [
       "<Figure size 432x288 with 1 Axes>"
      ]
     },
     "metadata": {
      "needs_background": "light"
     },
     "output_type": "display_data"
    }
   ],
   "source": [
    "pp.plot_2d_cluster(df_final, 'cluster_prediction','students_reached', 'total_price_including_optional_support')"
   ]
  },
  {
   "cell_type": "markdown",
   "metadata": {},
   "source": [
    "### Identify \"distinctive\" features of clusters"
   ]
  },
  {
   "cell_type": "code",
   "execution_count": 14,
   "metadata": {},
   "outputs": [],
   "source": [
    "# rename columns so they can shown by export_graphviz\n",
    "for c in df_final.columns:\n",
    "    if '&' in c:\n",
    "        new = c.replace(' & ', '')\n",
    "        df_final = df_final.rename(columns = {c:new})\n",
    "        features.remove(c)\n",
    "        features.append(new)"
   ]
  },
  {
   "cell_type": "code",
   "execution_count": 15,
   "metadata": {},
   "outputs": [
    {
     "data": {
      "text/plain": [
       "DecisionTreeClassifier(class_weight=None, criterion='gini', max_depth=10,\n",
       "            max_features=None, max_leaf_nodes=None,\n",
       "            min_impurity_decrease=0.0, min_impurity_split=None,\n",
       "            min_samples_leaf=1, min_samples_split=2,\n",
       "            min_weight_fraction_leaf=0.0, presort=False, random_state=None,\n",
       "            splitter='best')"
      ]
     },
     "execution_count": 15,
     "metadata": {},
     "output_type": "execute_result"
    }
   ],
   "source": [
    "# fit classifier\n",
    "dt_1 = DecisionTreeClassifier(max_depth = 10)\n",
    "dt_1.fit(df_final[features], df_final['cluster_prediction'])"
   ]
  },
  {
   "cell_type": "code",
   "execution_count": 16,
   "metadata": {},
   "outputs": [],
   "source": [
    "# graph tree\n",
    "pp.graph_tree(dt_1, features, 'tree.png')"
   ]
  },
  {
   "cell_type": "markdown",
   "metadata": {},
   "source": [
    "### The most distinguishing features is primary focus area of Literacy & Language"
   ]
  },
  {
   "cell_type": "code",
   "execution_count": 17,
   "metadata": {},
   "outputs": [
    {
     "data": {
      "image/png": "[encoded data removed]",
      "text/plain": [
       "<IPython.core.display.Image object>"
      ]
     },
     "execution_count": 17,
     "metadata": {},
     "output_type": "execute_result"
    }
   ],
   "source": [
    "# show image\n",
    "Image('tree.png')"
   ]
  },
  {
   "cell_type": "markdown",
   "metadata": {},
   "source": [
    "# Further analysis"
   ]
  },
  {
   "cell_type": "markdown",
   "metadata": {},
   "source": [
    "## Merge clusters into one"
   ]
  },
  {
   "cell_type": "code",
   "execution_count": 20,
   "metadata": {},
   "outputs": [],
   "source": [
    "z=pp.merge_clusters(df_final, 'cluster_prediction', [0,1],1)"
   ]
  },
  {
   "cell_type": "code",
   "execution_count": 21,
   "metadata": {},
   "outputs": [
    {
     "data": {
      "text/plain": [
       "array([1])"
      ]
     },
     "execution_count": 21,
     "metadata": {},
     "output_type": "execute_result"
    }
   ],
   "source": [
    "z['cluster_prediction'].unique()"
   ]
  },
  {
   "cell_type": "markdown",
   "metadata": {},
   "source": [
    "## Recluster with a new k"
   ]
  },
  {
   "cell_type": "code",
   "execution_count": 56,
   "metadata": {},
   "outputs": [],
   "source": [
    "df_final['cluster_prediction'] = pp.kmeans_label(KMeans(), {'n_clusters':3}, df_final[features])"
   ]
  },
  {
   "cell_type": "code",
   "execution_count": 57,
   "metadata": {},
   "outputs": [
    {
     "data": {
      "text/plain": [
       "array([0, 1, 2])"
      ]
     },
     "execution_count": 57,
     "metadata": {},
     "output_type": "execute_result"
    }
   ],
   "source": [
    "df_final['cluster_prediction'].unique()"
   ]
  },
  {
   "cell_type": "markdown",
   "metadata": {},
   "source": [
    "## Split a specific cluster into many (with a specific number of new clustering)"
   ]
  },
  {
   "cell_type": "code",
   "execution_count": 58,
   "metadata": {
    "scrolled": true
   },
   "outputs": [],
   "source": [
    "df_final = pp.split_cluster(df_final, 'cluster_prediction', features,2, {'n_clusters':3},[2,3,4])"
   ]
  },
  {
   "cell_type": "code",
   "execution_count": 59,
   "metadata": {},
   "outputs": [
    {
     "data": {
      "text/plain": [
       "array([0., 1., 2., 3., 4.])"
      ]
     },
     "execution_count": 59,
     "metadata": {},
     "output_type": "execute_result"
    }
   ],
   "source": [
    "df_final['cluster_prediction'].unique()"
   ]
  },
  {
   "cell_type": "code",
   "execution_count": null,
   "metadata": {},
   "outputs": [],
   "source": []
  }
 ],
 "metadata": {
  "kernelspec": {
   "display_name": "Python 3",
   "language": "python",
   "name": "python3"
  },
  "language_info": {
   "codemirror_mode": {
    "name": "ipython",
    "version": 3
   },
   "file_extension": ".py",
   "mimetype": "text/x-python",
   "name": "python",
   "nbconvert_exporter": "python",
   "pygments_lexer": "ipython3",
   "version": "3.7.3"
  }
 },
 "nbformat": 4,
 "nbformat_minor": 2
}
