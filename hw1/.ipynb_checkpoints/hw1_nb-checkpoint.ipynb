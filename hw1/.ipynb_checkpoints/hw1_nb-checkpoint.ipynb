{
 "cells": [
  {
   "cell_type": "markdown",
   "metadata": {},
   "source": [
    "# Assignment One"
   ]
  },
  {
   "cell_type": "code",
   "execution_count": 1,
   "metadata": {},
   "outputs": [],
   "source": [
    "import pandas as pd\n",
    "import requests\n",
    "import json\n",
    "import matplotlib.pyplot as plt\n",
    "from IPython.display import Image"
   ]
  },
  {
   "cell_type": "markdown",
   "metadata": {},
   "source": [
    "## Problem 1"
   ]
  },
  {
   "cell_type": "markdown",
   "metadata": {},
   "source": [
    "### Functions "
   ]
  },
  {
   "cell_type": "code",
   "execution_count": 102,
   "metadata": {},
   "outputs": [],
   "source": [
    "def pull_community(link):\n",
    "    '''\n",
    "    This function pulls in the community boundary area for Chicago.\n",
    "\n",
    "    link: API link\n",
    "\n",
    "    returns: dictionary with community number as key, community name as value\n",
    "    '''\n",
    "\n",
    "    response = requests.get(link)\n",
    "    d = response.json()\n",
    "\n",
    "    comm_dict = []\n",
    "\n",
    "    for comm in d:\n",
    "        k = comm['area_num_1']\n",
    "        l = comm['community']\n",
    "        new = {'community_area': k, 'name': l}\n",
    "        comm_dict.append(new)\n",
    "\n",
    "    return pd.DataFrame(comm_dict)\n",
    "\n",
    "    \n",
    "def pull_data(api_link, inc = 50000):\n",
    "    '''\n",
    "    This function pulls data from the api_link and organizes it into a pandas dataframe.\n",
    "\n",
    "    api_link: string containing api url\n",
    "    inc: increment for data pull since api only returns (max) 50000 items at a time\n",
    "\n",
    "    returns: dataframe\n",
    "    '''\n",
    "\n",
    "    off = 0\n",
    "\n",
    "    full = []\n",
    "\n",
    "    while True:\n",
    "        url = f'{api_link}?$limit={inc}&$offset={off}'\n",
    "        response = requests.get(url, timeout = 10)\n",
    "        data = response.json()\n",
    "        if data:\n",
    "            full += data\n",
    "            off += inc\n",
    "        else: #empty response\n",
    "            break\n",
    "\n",
    "    return pd.DataFrame(full)\n",
    "\n",
    "def avg_crime_nhood(*args):\n",
    "    '''\n",
    "    This function finds the mean number of crimes per community area.\n",
    "    \n",
    "    args: dataframes for each year \n",
    "    \n",
    "    return: dataframe with community area and average crimes\n",
    "    '''\n",
    "    all_years = []\n",
    "    \n",
    "    for df in args:\n",
    "        yr = df['year'].unique()[0]\n",
    "        by_nhood = df.groupby(['community_area', 'primary_type']).count()[['id']]\n",
    "        by_nhood = by_nhood.reset_index()\n",
    "        col_name = f'{yr} Total'\n",
    "        by_nhood.columns = ['community_area', 'Type', col_name]\n",
    "        all_years.append(by_nhood)\n",
    "        \n",
    "#     if len(all_years) == 1:\n",
    "#         final_counts = all_years[0]\n",
    "#     elif len(all_years) == 2:\n",
    "    final_counts = pd.merge(all_years[0], all_years[1], on = ['community_area','Type'], how='outer')\n",
    "    final_counts = final_counts.fillna(0)\n",
    "    col1 = final_counts.columns[2]\n",
    "    col2 = final_counts.columns[3]\n",
    "    final_counts['Average'] = round((final_counts[col2]+final_counts[col1])/2,1)\n",
    "    final_counts['Percent Change'] = round((final_counts[col2]/final_counts[col1] -1)*100,1)\n",
    "    final_counts['Type']=final_counts['Type'].str.capitalize()\n",
    "\n",
    "        #final_counts = final_counts.sort_values('Percent Change', ascending=False)\n",
    "#     else:\n",
    "#         final_counts = pd.merge(all_years[0], all_years[1], on = 'community_area')\n",
    "#         for i in range(2, len(all_years)):\n",
    "#             final_counts = pd.merge(final_counts, all_years[i], on = 'community_area')\n",
    "        \n",
    "    return final_counts\n",
    "\n",
    "def num_crimes_type(*args):\n",
    "    '''\n",
    "    This function calculates the total number of crimes committed across all \n",
    "    dataframes inputted.\n",
    "\n",
    "    *args: dataframes containing crime records (each row is a crime)\n",
    "\n",
    "    return: integer with number of crimes\n",
    "    '''\n",
    "\n",
    "    all_years = []\n",
    "\n",
    "    for df in args:\n",
    "        yr = df['year'].unique()[0]\n",
    "        #print(yr)\n",
    "        by_type = df.groupby('primary_type').count()[['id']]\n",
    "        by_type = by_type.reset_index()\n",
    "        col_name = f'{yr} Total'\n",
    "        by_type.columns = ['Type', col_name]\n",
    "        all_years.append(by_type)\n",
    "\n",
    "#     if len(all_years) == 1:\n",
    "#         final_counts = all_years[0]\n",
    "#     elif len(all_years) == 2:\n",
    "    final_counts = pd.merge(all_years[0], all_years[1], on = 'Type')\n",
    "    col1 = final_counts.columns[1]\n",
    "    col2 = final_counts.columns[2]\n",
    "    final_counts['Percent Change'] = round((final_counts[col2]/final_counts[col1]-1)*100,1)\n",
    "    final_counts['Type']=final_counts['Type'].str.capitalize()\n",
    "\n",
    "#         #final_counts = final_counts.sort_values('Percent Change', ascending=False)\n",
    "#     else:\n",
    "#         final_counts = pd.merge(all_years[0], all_years[1], on = 'Type')\n",
    "#         for i in range(2, len(all_years)):\n",
    "#             final_counts = pd.merge(final_counts, all_years[i], on = 'Type')\n",
    "\n",
    "    return final_counts\n",
    "\n",
    "\n",
    "def mk_table(data, filename = 'table.png', dpi = 800):\n",
    "    '''\n",
    "    This function makes a matplotlib table from a pandas dataframe.\n",
    "\n",
    "    data: pandas dataframe\n",
    "    filename: filename to save table png\n",
    "    dpi = resolution\n",
    "\n",
    "    '''\n",
    "    plt.figure(figsize=(8,6))\n",
    "    plt.axis('off')\n",
    "\n",
    "    cell_text = []\n",
    "    for row in range(len(data)):\n",
    "        cell_text.append(data.iloc[row])\n",
    "\n",
    "    tab = plt.table(cellText=cell_text, \n",
    "        colLabels=data.columns, \n",
    "        loc='center')\n",
    "\n",
    "    tab.auto_set_font_size(False)\n",
    "    tab.set_fontsize(5)\n",
    "        \n",
    "    #plt.title(title)\n",
    "    plt.savefig(filename, dpi = dpi)\n",
    "\n",
    "def mk_bar(df, x_col, y_col, title, filename = 'bar.png', dpi = 500):\n",
    "    '''\n",
    "    This function makes a horizontal bar chart from a dataframe.\n",
    "\n",
    "    df: dataframe\n",
    "    x_col: name of column for the x-axis argument in the plot\n",
    "    y_col: name of column for the y-axis argument in the plot\n",
    "    filename: filename to save barchart png\n",
    "    dpi = resolution\n",
    "\n",
    "    return: None\n",
    "    '''\n",
    "\n",
    "    df = df.sort_values(y_col, ascending=True)\n",
    "    df.plot.barh(x=x_col, y=y_col, legend = None)\n",
    "    plt.title(title)\n",
    "    plt.tick_params(axis='y', which='major', labelsize=6.5)\n",
    "    plt.savefig(filename, bbox_inches='tight', dpi=400)\n",
    "    \n",
    "def most_common_yr(df, year = 2018):\n",
    "    '''\n",
    "    This function builds a dataframe that finds the most common crime type for each community area and aggregates to be used\n",
    "    in a pie chart.\n",
    "    \n",
    "    df: dataframe from avg_crime_nhood\n",
    "    \n",
    "    returns: dataframe\n",
    "    '''\n",
    "    \n",
    "    dict_n = []\n",
    "    tgt_col = f'{year} Total'\n",
    "\n",
    "    #make pie chart of the 3?\n",
    "    for c in df['community_area'].unique():\n",
    "        new = df[df['community_area']== c].sort_values(tgt_col, ascending=False)\n",
    "        top = new.iloc[0]\n",
    "        n = {'Type': top['Type'], tgt_col: top[tgt_col], 'area': top['community_area']}\n",
    "        dict_n.append(n)\n",
    "    \n",
    "    return pd.DataFrame(dict_n)\n",
    "    \n",
    "    \n",
    "def mk_pie(df, year, title, filename = 'pie.png'):\n",
    "    '''\n",
    "    This function makes a pie chart from a given dataframe.\n",
    "    \n",
    "    df: dataframe from most_common_yr\n",
    "    \n",
    "    returns: None\n",
    "    '''\n",
    "    \n",
    "    df.set_index('Type', inplace=True, drop=True)\n",
    "    final = df.groupby('Type').count()\n",
    "    \n",
    "    tgt_col = f'{year} Total'\n",
    "    \n",
    "    final.plot.pie(y=tgt_col, legend=None,\n",
    "                   autopct='%1.0f%%',pctdistance=0.75, \n",
    "                   title = f'Most Common Type of Crime in {year}\\n(by Community Area)')\n",
    "    \n",
    "    \n",
    "def summary_nhood(df, area_num):\n",
    "    '''\n",
    "    This function creates a table summary of type of crime in 2017 and 2018 of a particular community area\n",
    "    as well as a bar chart of the percent change.\n",
    "    \n",
    "    df: dataframe from avg_crime_nhood\n",
    "    area_num: community_area number\n",
    "    \n",
    "    returns: None\n",
    "    '''\n",
    "    \n",
    "    filtered = df[df['community_area'] == str(area_num)]\n",
    "    filtered = filtered.set_index('community_area')\n",
    "    \n",
    "    f1 = f'nhood_{area_num}.png'\n",
    "    mk_table(filtered, filename = f1)\n",
    "    \n",
    "    f2 = f'nhood_bar_{area_num}.png'\n",
    "    title = f'Average Number of Crimes by Type (2017 to 2018)\\nCommunity Area: {area_num}'\n",
    "    mk_bar(filtered, 'Type', 'Average', title, f2)\n",
    "    \n",
    "    \n",
    "    "
   ]
  },
  {
   "cell_type": "code",
   "execution_count": 3,
   "metadata": {},
   "outputs": [],
   "source": [
    "# Links to use\n",
    "\n",
    "#community_areas = 'https://data.cityofchicago.org/resource/igwz-8jzy.json'\n",
    "crime_2017_api = 'https://data.cityofchicago.org/resource/d62x-nvdr.json'\n",
    "crime_2018_api = 'https://data.cityofchicago.org/resource/3i3m-jwuy.json'"
   ]
  },
  {
   "cell_type": "code",
   "execution_count": 4,
   "metadata": {},
   "outputs": [],
   "source": [
    "#nhood_dict = pull_community(community_areas)\n",
    "df1 = pull_data(crime_2017_api)\n",
    "df2 = pull_data(crime_2018_api)\n"
   ]
  },
  {
   "cell_type": "code",
   "execution_count": 106,
   "metadata": {},
   "outputs": [],
   "source": [
    "#summary stats\n",
    "x = num_crimes_type(df1, df2)\n",
    "\n",
    "z=avg_crime_nhood(df1, df2)\n",
    "a = most_common_yr(z)\n",
    "b = most_common_yr(z, 2017)"
   ]
  },
  {
   "cell_type": "code",
   "execution_count": 110,
   "metadata": {
    "scrolled": true
   },
   "outputs": [
    {
     "data": {
      "image/png": "[encoded data removed]",
      "text/plain": [
       "<Figure size 576x432 with 1 Axes>"
      ]
     },
     "metadata": {},
     "output_type": "display_data"
    }
   ],
   "source": [
    "mk_table(x, 'table_by_type.png')"
   ]
  },
  {
   "cell_type": "code",
   "execution_count": 111,
   "metadata": {},
   "outputs": [
    {
     "data": {
      "image/png": "[encoded data removed]",
      "text/plain": [
       "<Figure size 432x288 with 1 Axes>"
      ]
     },
     "metadata": {},
     "output_type": "display_data"
    }
   ],
   "source": [
    "mk_bar(x, 'Type', 'Percent Change', 'Percent Change in Crimes by Type (2017 to 2018)', 'bar_type_chg.png')"
   ]
  },
  {
   "cell_type": "code",
   "execution_count": 108,
   "metadata": {},
   "outputs": [
    {
     "data": {
      "image/png": "[encoded data removed]",
      "text/plain": [
       "<Figure size 432x288 with 1 Axes>"
      ]
     },
     "metadata": {},
     "output_type": "display_data"
    },
    {
     "data": {
      "image/png": "[encoded data removed]",
      "text/plain": [
       "<Figure size 432x288 with 1 Axes>"
      ]
     },
     "metadata": {},
     "output_type": "display_data"
    }
   ],
   "source": [
    "mk_pie(a, 2018, '2018 pie.png')\n",
    "mk_pie(b, 2017, '2017 pie.png')"
   ]
  },
  {
   "cell_type": "code",
   "execution_count": 109,
   "metadata": {},
   "outputs": [
    {
     "data": {
      "image/png": "[encoded data removed]",
      "text/plain": [
       "<Figure size 576x432 with 1 Axes>"
      ]
     },
     "metadata": {},
     "output_type": "display_data"
    },
    {
     "data": {
      "image/png": "[encoded data removed]",
      "text/plain": [
       "<Figure size 432x288 with 1 Axes>"
      ]
     },
     "metadata": {},
     "output_type": "display_data"
    }
   ],
   "source": [
    "summary_nhood(z, '3')"
   ]
  },
  {
   "cell_type": "code",
   "execution_count": null,
   "metadata": {},
   "outputs": [],
   "source": [
    "Image('table_by_type.png')"
   ]
  },
  {
   "cell_type": "code",
   "execution_count": null,
   "metadata": {},
   "outputs": [],
   "source": [
    "Image('bar_type_chg.png')"
   ]
  },
  {
   "cell_type": "code",
   "execution_count": null,
   "metadata": {},
   "outputs": [],
   "source": [
    "Image('2018 pie.png')"
   ]
  },
  {
   "cell_type": "code",
   "execution_count": null,
   "metadata": {},
   "outputs": [],
   "source": [
    "Image('2017 pie"
   ]
  },
  {
   "cell_type": "code",
   "execution_count": null,
   "metadata": {},
   "outputs": [],
   "source": [
    "Image('nhood_3.png')"
   ]
  },
  {
   "cell_type": "code",
   "execution_count": null,
   "metadata": {},
   "outputs": [],
   "source": [
    "Image('nhood_bar_3.png')"
   ]
  },
  {
   "cell_type": "code",
   "execution_count": null,
   "metadata": {},
   "outputs": [],
   "source": [
    "#experimental code\n",
    "#z=avg_crime_nhood(df1, df2)\n",
    "#z=pd.merge(nhood_dict, z, on = 'community_area')\n",
    "# z2 = z[['community_area', '2017 Total', '2018 Total']]\n",
    "# #z2.plot.scatter(x='2017 Total', y='2018 Total')\n",
    "# #z1.sort_values('Percent Change', ascending=False)\n",
    "# z3 = z1[z1['community_area']=='1'].sort_values('2018 Total', ascending=False)\n",
    "\n",
    "dict_n = []\n",
    "\n",
    "#make pie chart of the 3?\n",
    "for c in z['community_area'].unique():\n",
    "    new = z[z['community_area']== c].sort_values('2017 Total', ascending=False)\n",
    "    top_2017 =new.iloc[0]\n",
    "    n = dict(top_2017)\n",
    "    dict_n.append(n)\n",
    "\n",
    "a = pd.DataFrame(dict_n)\n",
    "#a['type'].unique()\n",
    "a.set_index('type', inplace=True, drop=True)\n",
    "b = a.groupby('type').count()\n",
    "b\n",
    "#a.set_index('type', inplace=True, drop=True)\n",
    "#a\n",
    "#b.plot.pie(y='2018 Total', legend=None,autopct='%1.0f%%',pctdistance=0.75, title = 'Most Common Type of Crime in 2018')\n",
    "\n",
    "\n",
    "#biggest pct increase: concealed carry license\n",
    "#biggest pct decrease: other narcotics\n",
    "vals = x.sort_values('Percent Change', ascending=False)\n",
    "high = vals.iloc[0]\n",
    "low = vals.iloc[-1]\n",
    "\n",
    "hightype = high['Type'].upper()\n",
    "lowtype = low['Type'].upper()\n",
    "#z[z['type']==hightype]\n",
    "z[z['type']== lowtype]"
   ]
  },
  {
   "cell_type": "markdown",
   "metadata": {},
   "source": [
    "## Problem 2\n",
    "\n",
    "### Functions"
   ]
  },
  {
   "cell_type": "code",
   "execution_count": 124,
   "metadata": {},
   "outputs": [],
   "source": [
    "from xml.etree import ElementTree"
   ]
  },
  {
   "cell_type": "code",
   "execution_count": null,
   "metadata": {},
   "outputs": [],
   "source": [
    "def get_blocks_latlng(api_link, df_latlng):\n",
    "    '''\n",
    "    This function uses the FCC Block API to identify FIPS census blocks for each lat/long in the crime data.\n",
    "    \n",
    "    api_link: FCC base api link\n",
    "    df_latlng: dataframe of latitude, longitudes to get FIPS Codes for\n",
    "    '''"
   ]
  },
  {
   "cell_type": "code",
   "execution_count": 118,
   "metadata": {},
   "outputs": [
    {
     "name": "stdout",
     "output_type": "stream",
     "text": [
      "11192233\n",
      "41.965693651\n",
      "-87.715726125\n"
     ]
    },
    {
     "data": {
      "text/html": [
       "<div>\n",
       "<style scoped>\n",
       "    .dataframe tbody tr th:only-of-type {\n",
       "        vertical-align: middle;\n",
       "    }\n",
       "\n",
       "    .dataframe tbody tr th {\n",
       "        vertical-align: top;\n",
       "    }\n",
       "\n",
       "    .dataframe thead th {\n",
       "        text-align: right;\n",
       "    }\n",
       "</style>\n",
       "<table border=\"1\" class=\"dataframe\">\n",
       "  <thead>\n",
       "    <tr style=\"text-align: right;\">\n",
       "      <th></th>\n",
       "      <th>id</th>\n",
       "      <th>latitude</th>\n",
       "      <th>longitude</th>\n",
       "    </tr>\n",
       "  </thead>\n",
       "  <tbody>\n",
       "    <tr>\n",
       "      <th>0</th>\n",
       "      <td>11192233</td>\n",
       "      <td>41.965693651</td>\n",
       "      <td>-87.715726125</td>\n",
       "    </tr>\n",
       "    <tr>\n",
       "      <th>1</th>\n",
       "      <td>11196379</td>\n",
       "      <td>41.926558908</td>\n",
       "      <td>-87.631294073</td>\n",
       "    </tr>\n",
       "    <tr>\n",
       "      <th>2</th>\n",
       "      <td>11192540</td>\n",
       "      <td>41.895750913</td>\n",
       "      <td>-87.623495923</td>\n",
       "    </tr>\n",
       "    <tr>\n",
       "      <th>3</th>\n",
       "      <td>11192239</td>\n",
       "      <td>41.856426716</td>\n",
       "      <td>-87.638892854</td>\n",
       "    </tr>\n",
       "    <tr>\n",
       "      <th>4</th>\n",
       "      <td>11192254</td>\n",
       "      <td>41.683369303</td>\n",
       "      <td>-87.622829524</td>\n",
       "    </tr>\n",
       "  </tbody>\n",
       "</table>\n",
       "</div>"
      ],
      "text/plain": [
       "         id      latitude      longitude\n",
       "0  11192233  41.965693651  -87.715726125\n",
       "1  11196379  41.926558908  -87.631294073\n",
       "2  11192540  41.895750913  -87.623495923\n",
       "3  11192239  41.856426716  -87.638892854\n",
       "4  11192254  41.683369303  -87.622829524"
      ]
     },
     "execution_count": 118,
     "metadata": {},
     "output_type": "execute_result"
    }
   ],
   "source": [
    "d = df1[['id', 'latitude','longitude']]\n",
    "for index, row in d.iterrows():\n",
    "    print(row['id'])\n",
    "    print(row['latitude'])\n",
    "    print(row['longitude'])\n",
    "    \n",
    "    break\n",
    "d.head()\n"
   ]
  },
  {
   "cell_type": "code",
   "execution_count": 178,
   "metadata": {},
   "outputs": [],
   "source": [
    "\n",
    "\n",
    "r = requests.get('https://geo.fcc.gov/api/census/block/find?latitude=41.965693651&longitude=-87.715726125&showall=true&format=xml')\n",
    "tree = ElementTree.fromstring(r.content)\n"
   ]
  },
  {
   "cell_type": "code",
   "execution_count": 179,
   "metadata": {},
   "outputs": [
    {
     "data": {
      "text/plain": [
       "b'<Response status=\"OK\" executionTime=\"0\"><Block FIPS=\"170311407023000\" bbox=\"-87.715754,41.964708,-87.71325,41.966583\"><intersection FIPS=\"170311407023000\"/><intersection FIPS=\"170311407023001\"/></Block><County FIPS=\"17031\" name=\"Cook\"/><State FIPS=\"17\" code=\"IL\" name=\"Illinois\"/><messages>FCC0001: The coordinate lies on the boundary of mulitple blocks.</messages></Response>'"
      ]
     },
     "execution_count": 179,
     "metadata": {},
     "output_type": "execute_result"
    }
   ],
   "source": [
    "r.content"
   ]
  },
  {
   "cell_type": "code",
   "execution_count": 146,
   "metadata": {},
   "outputs": [
    {
     "data": {
      "text/plain": [
       "'Response'"
      ]
     },
     "execution_count": 146,
     "metadata": {},
     "output_type": "execute_result"
    }
   ],
   "source": [
    "tree.tag"
   ]
  },
  {
   "cell_type": "code",
   "execution_count": 147,
   "metadata": {},
   "outputs": [
    {
     "data": {
      "text/plain": [
       "[]"
      ]
     },
     "execution_count": 147,
     "metadata": {},
     "output_type": "execute_result"
    }
   ],
   "source": [
    "tree.findall('Response/Block FIPS')"
   ]
  },
  {
   "cell_type": "code",
   "execution_count": 162,
   "metadata": {},
   "outputs": [
    {
     "name": "stdout",
     "output_type": "stream",
     "text": [
      "{'FIPS': '511770203042000', 'bbox': '-77.511283,38.252267,-77.495614,38.267525'}\n",
      "{'FIPS': '51177', 'name': 'Spotsylvania'}\n",
      "{'FIPS': '51', 'code': 'VA', 'name': 'Virginia'}\n"
     ]
    }
   ],
   "source": [
    "for child in tree:\n",
    "    print(child.attrib)"
   ]
  },
  {
   "cell_type": "code",
   "execution_count": 154,
   "metadata": {},
   "outputs": [
    {
     "ename": "AttributeError",
     "evalue": "'xml.etree.ElementTree.Element' object has no attribute 'child'",
     "output_type": "error",
     "traceback": [
      "\u001b[0;31m---------------------------------------------------------------------------\u001b[0m",
      "\u001b[0;31mAttributeError\u001b[0m                            Traceback (most recent call last)",
      "\u001b[0;32m<ipython-input-154-ef282dda7e47>\u001b[0m in \u001b[0;36m<module>\u001b[0;34m()\u001b[0m\n\u001b[0;32m----> 1\u001b[0;31m \u001b[0mtree\u001b[0m\u001b[0;34m.\u001b[0m\u001b[0mchild\u001b[0m\u001b[0;34m\u001b[0m\u001b[0m\n\u001b[0m",
      "\u001b[0;31mAttributeError\u001b[0m: 'xml.etree.ElementTree.Element' object has no attribute 'child'"
     ]
    }
   ],
   "source": [
    "tree.child"
   ]
  },
  {
   "cell_type": "code",
   "execution_count": 181,
   "metadata": {},
   "outputs": [
    {
     "data": {
      "text/plain": [
       "[['NAME',\n",
       "  'B01002_001E',\n",
       "  'B01002_001M',\n",
       "  'B01002_002E',\n",
       "  'B01002_002M',\n",
       "  'B01002_003E',\n",
       "  'B01002_003M',\n",
       "  'state',\n",
       "  'county',\n",
       "  'tract',\n",
       "  'block group'],\n",
       " ['Block Group 1, Census Tract 101, Cook County, Illinois',\n",
       "  '47.9',\n",
       "  '5.2',\n",
       "  '47.5',\n",
       "  '7.3',\n",
       "  '50.4',\n",
       "  '20.6',\n",
       "  '17',\n",
       "  '031',\n",
       "  '010100',\n",
       "  '1'],\n",
       " ['Block Group 2, Census Tract 101, Cook County, Illinois',\n",
       "  '33.0',\n",
       "  '5.7',\n",
       "  '35.1',\n",
       "  '16.7',\n",
       "  '32.8',\n",
       "  '7.9',\n",
       "  '17',\n",
       "  '031',\n",
       "  '010100',\n",
       "  '2'],\n",
       " ['Block Group 3, Census Tract 101, Cook County, Illinois',\n",
       "  '33.4',\n",
       "  '2.3',\n",
       "  '34.0',\n",
       "  '6.6',\n",
       "  '33.1',\n",
       "  '4.8',\n",
       "  '17',\n",
       "  '031',\n",
       "  '010100',\n",
       "  '3']]"
      ]
     },
     "execution_count": 181,
     "metadata": {},
     "output_type": "execute_result"
    }
   ],
   "source": [
    "#f = 'https://api.census.gov/data/2013/acs1?get=NAME,B02015_009E,B02015_009M&for=tract:*&in=state:51+county:51177'\n",
    "#for all tracts cook county \n",
    "#all tracts\n",
    "f='https://api.census.gov/data/2016/acs/acs5?get=NAME,B01002_001E,B01002_001M,B01002_002E,B01002_002M,B01002_003E,B01002_003M&for=tract:*&in=state:17+county:031'\n",
    "#get block groups for each tract, will need to loop\n",
    "g = 'https://api.census.gov/data/2016/acs/acs5?get=NAME,B01002_001E,B01002_001M,B01002_002E,B01002_002M,B01002_003E,B01002_003M&for=block+group:*&in=state:17+county:031+tract:010100'\n",
    "\n",
    "#f='https://api.census.gov/data/2016/acs/acs5?get=NAME,B01002_001E,B01002_001M,B01002_002E,B01002_002M,B01002_003E,B01002_003M&for=tract:*&in=state:01&key=4b034d76dca86dd92bf767cae1ec01e592b13e10'\n",
    "r = requests.get(g)\n",
    "r.json()"
   ]
  },
  {
   "cell_type": "code",
   "execution_count": 176,
   "metadata": {},
   "outputs": [
    {
     "data": {
      "text/plain": [
       "arrest                                                              False\n",
       "beat                                                                 1831\n",
       "block                                                  0000X W HUBBARD ST\n",
       "case_number                                                      JB100690\n",
       "community_area                                                          8\n",
       "date                                                  2017-12-31T23:30:00\n",
       "description                                             CREDIT CARD FRAUD\n",
       "district                                                              018\n",
       "domestic                                                            False\n",
       "fbi_code                                                               11\n",
       "id                                                               11192682\n",
       "iucr                                                                 1150\n",
       "latitude                                                      41.89005498\n",
       "location                {'latitude': '41.89005498', 'human_address': '...\n",
       "location_description                                        BAR OR TAVERN\n",
       "longitude                                                   -87.628575838\n",
       "primary_type                                           DECEPTIVE PRACTICE\n",
       "updated_on                                            2018-05-04T15:51:04\n",
       "ward                                                                   42\n",
       "x_coordinate                                                      1176142\n",
       "y_coordinate                                                      1903314\n",
       "year                                                                 2017\n",
       "Name: 9, dtype: object"
      ]
     },
     "execution_count": 176,
     "metadata": {},
     "output_type": "execute_result"
    }
   ],
   "source": [
    "df1.iloc[9]"
   ]
  },
  {
   "cell_type": "code",
   "execution_count": null,
   "metadata": {},
   "outputs": [],
   "source": []
  }
 ],
 "metadata": {
  "kernelspec": {
   "display_name": "Python 3",
   "language": "python",
   "name": "python3"
  },
  "language_info": {
   "codemirror_mode": {
    "name": "ipython",
    "version": 3
   },
   "file_extension": ".py",
   "mimetype": "text/x-python",
   "name": "python",
   "nbconvert_exporter": "python",
   "pygments_lexer": "ipython3",
   "version": "3.7.0"
  }
 },
 "nbformat": 4,
 "nbformat_minor": 2
}
