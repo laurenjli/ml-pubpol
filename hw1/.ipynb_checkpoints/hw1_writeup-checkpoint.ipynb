{
 "cells": [
  {
   "cell_type": "markdown",
   "metadata": {},
   "source": [
    "# Homework 1 Writeup\n",
    "\n",
    "### Lauren Li"
   ]
  },
  {
   "cell_type": "markdown",
   "metadata": {},
   "source": [
    "This write up contains the figures and written answers to problems 1-4 of homework 1. \n",
    "\n",
    "\n",
    "The full code can be found in hw1_nb.ipynb (located in the same repository)."
   ]
  },
  {
   "cell_type": "markdown",
   "metadata": {},
   "source": [
    "### Problem 1: Data Acquisition and Analysis "
   ]
  },
  {
   "cell_type": "markdown",
   "metadata": {},
   "source": [
    "Below shows the number of crimes by type for years 2017 and 2018. There are a few things that stand out.\n",
    "\n",
    "- Assault, Theft, Criminal Damage, Deceptive Practice, and Battery are among the most frequent types of crime in both years. \n",
    "\n",
    "\n",
    "- Theft, Deceptive Practice, and Battery are steady across the two years (the percent increase is low at approximately 1%).\n",
    "\n",
    "\n",
    "- Assault increased by 5.6% from 2017 to 2018 while Criminal Damage decreased by -4.3%.\n"
   ]
  },
  {
   "cell_type": "markdown",
   "metadata": {},
   "source": [
    "<img src = 'table_by_type.png'>"
   ]
  },
  {
   "cell_type": "markdown",
   "metadata": {},
   "source": [
    "Next, we can look percent change in the number of crimes committed per type from 2017 to 2018.\n",
    "\n",
    "- Concealed carry license violation and Human Trafficking had the highest percent increases. Referring back to the table above, neither type has a very high frequency. However, Concealed carry license violations are more frequent than Human trafficking crimes and had a large spike from 2017 to 2018.\n",
    "\n",
    "\n",
    "- The type of crime with the highest percent decrease was Other narcotic violation. Given the infrequency of this type, the drop from 11 violations in 2017 to 1 in 2018 has a pronounced percent decrease.\n",
    "\n",
    "\n",
    "- Notably, Robbery and Motor Vehicle Theft, which are more frequent that Other narcotic violations, also decreased substationally from 2017 to 2018. Robbery decreased by -18.5% while Motor Vehicle Theft decreased by 12.4%\n"
   ]
  },
  {
   "cell_type": "markdown",
   "metadata": {},
   "source": [
    "<img src='bar_type_chg.png'>"
   ]
  },
  {
   "cell_type": "markdown",
   "metadata": {},
   "source": [
    "The Chicago Open Data Portal crime reports also provide information on the community area. Below shows the percentage of community areas that experience a type of crime as the most frequent.\n",
    "\n",
    "In 2017, Theft was the most frequent type of crime for 63% of community areas, followed by Battery for 36% of the areas, and Assault for 1% of the areas."
   ]
  },
  {
   "cell_type": "markdown",
   "metadata": {},
   "source": [
    "<img src='2017 pie.png'>"
   ]
  },
  {
   "cell_type": "markdown",
   "metadata": {},
   "source": [
    "In comparison, Theft was the most frequent type of crime for 59% of community areas, followed by Battery for 38% of the areas, and Narcotics for 3% of the areas in 2018. \n",
    "\n",
    "More communities experienced Battery and fewer experienced Theft than in 2017. Moreover, the third most common type of crime by area switched from Assault in 2017 to Narcotics in 2018. "
   ]
  },
  {
   "cell_type": "markdown",
   "metadata": {},
   "source": [
    "<img src='2018 pie.png'>"
   ]
  },
  {
   "cell_type": "markdown",
   "metadata": {},
   "source": [
    "To provide for detailed analysis of neighborhood crime levels, summary statistics can also be generated for each community area. This can easily be replicated using the code in hw1_nb.ipynb (function summary_nhood), which allows the user to enter the specific community area number of interest to generate a table and graph of summary statistics. Community Area 3 is shown below as an example.\n",
    "\n",
    "Based on the table and bar chart below for Community Area 3:\n",
    "\n",
    "- Theft and Battery are among the most frequent in the neighborhood, which is similar to other neighborhoods and the city overall based on data shown above.\n",
    "\n",
    "\n",
    "- Deceptive Practice and Criminal Damages are also relatively more frequent, again similar to the city overall. \n",
    "\n",
    "\n",
    "- In contrast to the overall city statistics, Assault crimes have decreased by -6.5% from 2017 to 2018 while Motor vehicle thefts have increased by 17%."
   ]
  },
  {
   "cell_type": "markdown",
   "metadata": {},
   "source": [
    "<img src='nhood_3.png'>"
   ]
  },
  {
   "cell_type": "markdown",
   "metadata": {},
   "source": [
    "<img src= 'nhood_bar_3.png'>"
   ]
  },
  {
   "cell_type": "markdown",
   "metadata": {},
   "source": [
    "## Problem 2: Data Augmentation and APIs "
   ]
  },
  {
   "cell_type": "markdown",
   "metadata": {},
   "source": [
    "The table below provides summary statistics to answer questions 1, 2, and 3. To identify blocks with \"frequent\" reports of battery/homicide, I look at blocks that had a number of battery/homicide violations in the 75th percentile of frequency. Otherwise, there were a lot of blocks with just one or two that I didn't think would add to the analysis.\n",
    "\n",
    "\n",
    "#### 1. What types of blocks have reports of “Battery”?\n",
    "\n",
    "- The blocks that have reports of \"Battery had a large proportion of residents (40% on average) with household income less than 25,000. Over 80% (on average) of the households had household income less than 100,000.\n",
    "\n",
    "\n",
    "- On average, majority of the residents in the block are Black (75%). \n",
    "\n",
    "\n",
    "- The median age is 35, on average.\n",
    "\n",
    "\n",
    "\n",
    "#### 2. What types of blocks get “Homicide”?\n",
    "\n",
    "\n",
    "- The blocks that have reports of \"Battery had a large proportion of residents (40% on average) with household income less than 25,000. Over 80% (on average) of the households had household income less than 100,000.\n",
    "\n",
    "\n",
    "- Majority of the residents in the block are Black (80%) on average. \n",
    "\n",
    "\n",
    "- The median age is 33 on average.\n",
    "\n",
    "\n",
    "#### 3. Does that change over time in the data you collected?\n",
    "\n",
    "- The demographics listed for blocks that report Battery, do not change substantially from 2017 to 2018 on average. Note that the number of Battery crimes also stayed pretty steady from 2017 to 2018 (summary table for problem 1).\n",
    "\n",
    "\n",
    "- There is more pronounced difference when comparing blocks that had Homicides in 2017 to 2018. In 2018, blocks had an increase in percentage of housholds with income less than 25,000 (49% vs 43% in 2017 on average). There is also a notable increase in percentage of Black residents in the block which is 90% in 2018 vs 80% in 2017 on average. The number of homicides in the city decreased from 2018 to 2017. This could indicate that while the number of homicides decreased, homicides became more concentrated in black, low-income neighborhoods."
   ]
  },
  {
   "cell_type": "markdown",
   "metadata": {},
   "source": [
    "<img src='problem2_summary1.png'>"
   ]
  },
  {
   "cell_type": "markdown",
   "metadata": {},
   "source": [
    "For question 4, similar to questions 1-3 above, I look at blocks that had a number of deceptive practice/sex offense violations in the 75th percentile of frequency. Otherwise, there were a lot of blocks with only a few cases that I thought would add noise.\n",
    "\n",
    "\n",
    "\n",
    "#### 4. What is the difference in blocks that get “Deceptive Practice” vs “Sex Offense”?\n",
    "\n",
    "\n",
    "- Blocks that receive Deceptive Practice \n"
   ]
  },
  {
   "cell_type": "markdown",
   "metadata": {},
   "source": [
    "<img src='problem2_summary2.png'>"
   ]
  },
  {
   "cell_type": "code",
   "execution_count": null,
   "metadata": {},
   "outputs": [],
   "source": []
  }
 ],
 "metadata": {
  "kernelspec": {
   "display_name": "Python 3",
   "language": "python",
   "name": "python3"
  },
  "language_info": {
   "codemirror_mode": {
    "name": "ipython",
    "version": 3
   },
   "file_extension": ".py",
   "mimetype": "text/x-python",
   "name": "python",
   "nbconvert_exporter": "python",
   "pygments_lexer": "ipython3",
   "version": "3.6.8"
  }
 },
 "nbformat": 4,
 "nbformat_minor": 2
}
