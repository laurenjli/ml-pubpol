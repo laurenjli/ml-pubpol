{
 "cells": [
  {
   "cell_type": "markdown",
   "metadata": {},
   "source": [
    "# Assignment One\n",
    "\n",
    "## Problem 1\n",
    "\n",
    "This file contains code for problem 1."
   ]
  },
  {
   "cell_type": "code",
   "execution_count": 1,
   "metadata": {},
   "outputs": [],
   "source": [
    "import pandas as pd\n",
    "import requests\n",
    "import json\n",
    "import matplotlib.pyplot as plt\n",
    "from IPython.display import Image"
   ]
  },
  {
   "cell_type": "markdown",
   "metadata": {},
   "source": [
    "## Functions "
   ]
  },
  {
   "cell_type": "code",
   "execution_count": 2,
   "metadata": {},
   "outputs": [],
   "source": [
    "def pull_community(link):\n",
    "    '''\n",
    "    This function pulls in the community boundary area for Chicago.\n",
    "\n",
    "    link: API link\n",
    "\n",
    "    returns: dictionary with community number as key, community name as value\n",
    "    '''\n",
    "\n",
    "    response = requests.get(link)\n",
    "    d = response.json()\n",
    "\n",
    "    comm_dict = []\n",
    "\n",
    "    for comm in d:\n",
    "        k = comm['area_num_1']\n",
    "        l = comm['community']\n",
    "        new = {'community_area': k, 'name': l}\n",
    "        comm_dict.append(new)\n",
    "\n",
    "    return pd.DataFrame(comm_dict)\n",
    "\n",
    "    \n",
    "def pull_data(api_link, inc = 50000):\n",
    "    '''\n",
    "    This function pulls data from the api_link and organizes it into a pandas dataframe.\n",
    "\n",
    "    api_link: string containing api url\n",
    "    inc: increment for data pull since api only returns (max) 50000 items at a time\n",
    "\n",
    "    returns: dataframe\n",
    "    '''\n",
    "\n",
    "    off = 0\n",
    "\n",
    "    full = []\n",
    "\n",
    "    while True:\n",
    "        url = f'{api_link}?$limit={inc}&$offset={off}'\n",
    "        response = requests.get(url, timeout = 10)\n",
    "        data = response.json()\n",
    "        if data:\n",
    "            full += data\n",
    "            off += inc\n",
    "        else: #empty response\n",
    "            break\n",
    "\n",
    "    return pd.DataFrame(full)\n",
    "\n",
    "def avg_crime_nhood(*args):\n",
    "    '''\n",
    "    This function finds the mean number of crimes per community area.\n",
    "    \n",
    "    args: dataframes for each year \n",
    "    \n",
    "    return: dataframe with community area and average crimes\n",
    "    '''\n",
    "    all_years = []\n",
    "    \n",
    "    for df in args:\n",
    "        yr = df['year'].unique()[0]\n",
    "        by_nhood = df.groupby(['community_area', 'primary_type']).count()[['id']]\n",
    "        by_nhood = by_nhood.reset_index()\n",
    "        col_name = f'{yr} Total'\n",
    "        by_nhood.columns = ['community_area', 'type', col_name]\n",
    "        all_years.append(by_nhood)\n",
    "        \n",
    "    if len(all_years) == 1:\n",
    "        final_counts = all_years[0]\n",
    "    elif len(all_years) == 2:\n",
    "        final_counts = pd.merge(all_years[0], all_years[1], on = ['community_area','type'], how='outer').fillna(0)\n",
    "        col1 = final_counts.columns[2]\n",
    "        col2 = final_counts.columns[3]\n",
    "        final_counts['Average'] = round((final_counts[col2]+final_counts[col1])/2,1)\n",
    "        final_counts['Percent Change'] = round((final_counts[col2]/final_counts[col1] -1)*100,1)\n",
    "\n",
    "        #final_counts = final_counts.sort_values('Percent Change', ascending=False)\n",
    "    else:\n",
    "        final_counts = pd.merge(all_years[0], all_years[1], on = 'community_area')\n",
    "        for i in range(2, len(all_years)):\n",
    "            final_counts = pd.merge(final_counts, all_years[i], on = 'community_area')\n",
    "        \n",
    "    return final_counts\n",
    "\n",
    "def num_crimes_type(*args):\n",
    "    '''\n",
    "    This function calculates the total number of crimes committed across all \n",
    "    dataframes inputted.\n",
    "\n",
    "    *args: dataframes containing crime records (each row is a crime)\n",
    "\n",
    "    return: integer with number of crimes\n",
    "    '''\n",
    "\n",
    "    all_years = []\n",
    "\n",
    "    for df in args:\n",
    "        yr = df['year'].unique()[0]\n",
    "        #print(yr)\n",
    "        by_type = df.groupby('primary_type').count()[['id']]\n",
    "        by_type = by_type.reset_index()\n",
    "        col_name = f'{yr} Total'\n",
    "        by_type.columns = ['Type', col_name]\n",
    "        all_years.append(by_type)\n",
    "\n",
    "    if len(all_years) == 1:\n",
    "        final_counts = all_years[0]\n",
    "    elif len(all_years) == 2:\n",
    "        final_counts = pd.merge(all_years[0], all_years[1], on = 'Type')\n",
    "        col1 = final_counts.columns[1]\n",
    "        col2 = final_counts.columns[2]\n",
    "        final_counts['Percent Change'] = round((final_counts[col2]/final_counts[col1]-1)*100,1)\n",
    "\n",
    "        #final_counts = final_counts.sort_values('Percent Change', ascending=False)\n",
    "    else:\n",
    "        final_counts = pd.merge(all_years[0], all_years[1], on = 'Type')\n",
    "        for i in range(2, len(all_years)):\n",
    "            final_counts = pd.merge(final_counts, all_years[i], on = 'Type')\n",
    "\n",
    "    return final_counts\n",
    "\n",
    "\n",
    "def mk_table(data, filename = 'table.png', dpi = 800):\n",
    "    '''\n",
    "    This function makes a matplotlib table from a pandas dataframe.\n",
    "\n",
    "    data: pandas dataframe\n",
    "    filename: filename to save table png\n",
    "    dpi = resolution\n",
    "\n",
    "    '''\n",
    "    plt.figure(figsize=(8,6))\n",
    "    plt.axis('off')\n",
    "\n",
    "    cell_text = []\n",
    "    for row in range(len(data)):\n",
    "        cell_text.append(data.iloc[row])\n",
    "\n",
    "    tab = plt.table(cellText=cell_text, \n",
    "        colLabels=data.columns, \n",
    "        loc='center')\n",
    "\n",
    "    tab.auto_set_font_size(False)\n",
    "    tab.set_fontsize(5)\n",
    "        \n",
    "    #plt.title(title)\n",
    "    plt.savefig(filename, dpi = dpi)\n",
    "\n",
    "def mk_bar(df, x_col, y_col, title, filename = 'bar.png', dpi = 500):\n",
    "    '''\n",
    "    This function makes a horizontal bar chart from a dataframe.\n",
    "\n",
    "    df: dataframe\n",
    "    x_col: name of column for the x-axis argument in the plot\n",
    "    y_col: name of column for the y-axis argument in the plot\n",
    "    filename: filename to save barchart png\n",
    "    dpi = resolution\n",
    "\n",
    "    return: None\n",
    "    '''\n",
    "\n",
    "    df = df.sort_values(y_col, ascending=True)\n",
    "    df.plot.barh(x=x_col, y=y_col, legend = None)\n",
    "    plt.title(title)\n",
    "    plt.tick_params(axis='y', which='major', labelsize=6.5)\n",
    "    plt.savefig(filename, bbox_inches='tight', dpi=400)"
   ]
  },
  {
   "cell_type": "code",
   "execution_count": 3,
   "metadata": {},
   "outputs": [],
   "source": [
    "# Links to use\n",
    "\n",
    "community_areas = 'https://data.cityofchicago.org/resource/igwz-8jzy.json'\n",
    "crime_2017_api = 'https://data.cityofchicago.org/resource/d62x-nvdr.json'\n",
    "crime_2018_api = 'https://data.cityofchicago.org/resource/3i3m-jwuy.json'"
   ]
  },
  {
   "cell_type": "code",
   "execution_count": 4,
   "metadata": {},
   "outputs": [],
   "source": [
    "nhood_dict = pull_community(community_areas)\n",
    "df1 = pull_data(crime_2017_api)\n",
    "df2 = pull_data(crime_2018_api)\n",
    "\n",
    "x = num_crimes_type(df1, df2)\n",
    "x['Type']=x['Type'].str.capitalize()"
   ]
  },
  {
   "cell_type": "code",
   "execution_count": null,
   "metadata": {
    "scrolled": true
   },
   "outputs": [],
   "source": [
    "z=avg_crime_nhood(df1, df2)\n",
    "#z=pd.merge(nhood_dict, z, on = 'community_area')\n",
    "# z2 = z[['community_area', '2017 Total', '2018 Total']]\n",
    "# #z2.plot.scatter(x='2017 Total', y='2018 Total')\n",
    "# #z1.sort_values('Percent Change', ascending=False)\n",
    "# z3 = z1[z1['community_area']=='1'].sort_values('2018 Total', ascending=False)\n",
    "\n",
    "dict_n = []\n",
    "\n",
    "#make pie chart of the 3?\n",
    "for c in z['community_area'].unique():\n",
    "    new = z[z['community_area']== c].sort_values('2018 Total', ascending=False)\n",
    "    top_2018 =new.iloc[0]\n",
    "    n = dict(top_2018)\n",
    "    dict_n.append(n)\n",
    "\n",
    "a = pd.DataFrame(dict_n)\n",
    "a['type'].unique()\n",
    "a"
   ]
  },
  {
   "cell_type": "code",
   "execution_count": null,
   "metadata": {},
   "outputs": [],
   "source": [
    "#biggest pct increase: concealed carry license\n",
    "#biggest pct decrease: other narcotics\n",
    "vals = x.sort_values('Percent Change', ascending=False)\n",
    "high = vals.iloc[0]\n",
    "low = vals.iloc[-1]\n",
    "\n",
    "hightype = high['Type'].upper()\n",
    "lowtype = low['Type'].upper()\n",
    "#z[z['type']==hightype]\n",
    "z[z['type']== lowtype]\n"
   ]
  },
  {
   "cell_type": "code",
   "execution_count": null,
   "metadata": {},
   "outputs": [],
   "source": []
  },
  {
   "cell_type": "code",
   "execution_count": null,
   "metadata": {},
   "outputs": [],
   "source": [
    "dict(z3.iloc[9])"
   ]
  },
  {
   "cell_type": "code",
   "execution_count": null,
   "metadata": {
    "scrolled": true
   },
   "outputs": [],
   "source": [
    "mk_table(x, 'table_by_type.png')"
   ]
  },
  {
   "cell_type": "code",
   "execution_count": null,
   "metadata": {},
   "outputs": [],
   "source": [
    "mk_bar(x, 'Type', 'Percent Change', 'Percent Change in Crimes by Type (2017 to 2018)', 'bar_type_chg.png')"
   ]
  },
  {
   "cell_type": "code",
   "execution_count": null,
   "metadata": {},
   "outputs": [],
   "source": [
    "Image('table_by_type.png')"
   ]
  },
  {
   "cell_type": "code",
   "execution_count": null,
   "metadata": {},
   "outputs": [],
   "source": [
    "Image('bar_type_chg.png')"
   ]
  },
  {
   "cell_type": "code",
   "execution_count": null,
   "metadata": {},
   "outputs": [],
   "source": [
    "x.sort_values('2018 Total', ascending=False)"
   ]
  },
  {
   "cell_type": "code",
   "execution_count": null,
   "metadata": {},
   "outputs": [],
   "source": []
  }
 ],
 "metadata": {
  "kernelspec": {
   "display_name": "Python 3",
   "language": "python",
   "name": "python3"
  },
  "language_info": {
   "codemirror_mode": {
    "name": "ipython",
    "version": 3
   },
   "file_extension": ".py",
   "mimetype": "text/x-python",
   "name": "python",
   "nbconvert_exporter": "python",
   "pygments_lexer": "ipython3",
   "version": "3.7.0"
  }
 },
 "nbformat": 4,
 "nbformat_minor": 2
}
