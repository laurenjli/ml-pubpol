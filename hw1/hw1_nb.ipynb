{
 "cells": [
  {
   "cell_type": "markdown",
   "metadata": {},
   "source": [
    "# Assignment One"
   ]
  },
  {
   "cell_type": "code",
   "execution_count": 1,
   "metadata": {},
   "outputs": [],
   "source": [
    "import pandas as pd\n",
    "import requests\n",
    "import json\n",
    "import matplotlib.pyplot as plt\n",
    "from IPython.display import Image\n",
    "import numpy as np\n",
    "import geopandas\n",
    "from shapely.geometry import Point\n",
    "import censusgeocode as cg\n",
    "import datetime as dt"
   ]
  },
  {
   "cell_type": "markdown",
   "metadata": {},
   "source": [
    "## Problem 1"
   ]
  },
  {
   "cell_type": "markdown",
   "metadata": {},
   "source": [
    "### Functions "
   ]
  },
  {
   "cell_type": "code",
   "execution_count": 2,
   "metadata": {},
   "outputs": [],
   "source": [
    "def pull_community(link):\n",
    "    '''\n",
    "    This function pulls in the community boundary area for Chicago.\n",
    "\n",
    "    link: API link\n",
    "\n",
    "    returns: dictionary with community number as key, community name as value\n",
    "    '''\n",
    "\n",
    "    response = requests.get(link)\n",
    "    d = response.json()\n",
    "\n",
    "    comm_dict = []\n",
    "\n",
    "    for comm in d:\n",
    "        k = comm['area_num_1']\n",
    "        l = comm['community']\n",
    "        new = {'community_area': k, 'name': l}\n",
    "        comm_dict.append(new)\n",
    "\n",
    "    return pd.DataFrame(comm_dict)\n",
    "\n",
    "    \n",
    "def pull_data(api_link, inc = 50000):\n",
    "    '''\n",
    "    This function pulls data from the api_link and organizes it into a pandas dataframe.\n",
    "\n",
    "    api_link: string containing api url\n",
    "    inc: increment for data pull since api only returns (max) 50000 items at a time\n",
    "\n",
    "    returns: dataframe\n",
    "    '''\n",
    "\n",
    "    off = 0\n",
    "\n",
    "    full = []\n",
    "\n",
    "    while True:\n",
    "        url = f'{api_link}?$limit={inc}&$offset={off}'\n",
    "        response = requests.get(url, timeout = 10)\n",
    "        data = response.json()\n",
    "        if data:\n",
    "            full += data\n",
    "            off += inc\n",
    "        else: #empty response\n",
    "            break\n",
    "\n",
    "    return pd.DataFrame(full)\n",
    "\n",
    "def avg_crime_nhood(*args):\n",
    "    '''\n",
    "    This function finds the mean number of crimes per community area.\n",
    "    \n",
    "    args: dataframes for each year \n",
    "    \n",
    "    return: dataframe with community area and average crimes\n",
    "    '''\n",
    "    all_years = []\n",
    "    \n",
    "    for df in args:\n",
    "        yr = df['year'].unique()[0]\n",
    "        by_nhood = df.groupby(['community_area', 'primary_type']).count()[['id']]\n",
    "        by_nhood = by_nhood.reset_index()\n",
    "        col_name = f'{yr} Total'\n",
    "        by_nhood.columns = ['community_area', 'Type', col_name]\n",
    "        all_years.append(by_nhood)\n",
    "\n",
    "    final_counts = pd.merge(all_years[0], all_years[1], on = ['community_area','Type'], how='outer')\n",
    "    final_counts = final_counts.fillna(0)\n",
    "    col1 = final_counts.columns[2]\n",
    "    col2 = final_counts.columns[3]\n",
    "    final_counts['Average'] = round((final_counts[col2]+final_counts[col1])/2,1)\n",
    "    final_counts['Percent Change'] = round((final_counts[col2]/final_counts[col1] -1)*100,1)\n",
    "    final_counts['Type']=final_counts['Type'].str.capitalize()\n",
    "        \n",
    "    return final_counts\n",
    "\n",
    "def num_crimes_type(*args):\n",
    "    '''\n",
    "    This function calculates the total number of crimes committed across all \n",
    "    dataframes inputted.\n",
    "\n",
    "    *args: dataframes containing crime records (each row is a crime)\n",
    "\n",
    "    return: integer with number of crimes\n",
    "    '''\n",
    "\n",
    "    all_years = []\n",
    "\n",
    "    for df in args:\n",
    "        yr = df['year'].unique()[0]\n",
    "        #print(yr)\n",
    "        by_type = df.groupby('primary_type').count()[['id']]\n",
    "        by_type = by_type.reset_index()\n",
    "        col_name = f'{yr} Total'\n",
    "        by_type.columns = ['Type', col_name]\n",
    "        all_years.append(by_type)\n",
    "\n",
    "    final_counts = pd.merge(all_years[0], all_years[1], on = 'Type')\n",
    "    col1 = final_counts.columns[1]\n",
    "    col2 = final_counts.columns[2]\n",
    "    final_counts['Percent Change'] = round((final_counts[col2]/final_counts[col1]-1)*100,1)\n",
    "    final_counts['Type']=final_counts['Type'].str.capitalize()\n",
    "\n",
    "    return final_counts\n",
    "\n",
    "\n",
    "def mk_table(data, filename = 'charts/table.png', dpi = 800, scale=False, fontsize = False):\n",
    "    '''\n",
    "    This function makes a matplotlib table from a pandas dataframe.\n",
    "\n",
    "    data: pandas dataframe\n",
    "    filename: filename to save table png\n",
    "    dpi = resolution\n",
    "\n",
    "    '''\n",
    "    plt.figure(figsize=(8,6))\n",
    "    plt.axis('off')\n",
    "\n",
    "    cell_text = []\n",
    "    for row in range(len(data)):\n",
    "        cell_text.append(data.iloc[row])\n",
    "\n",
    "    tab = plt.table(cellText=cell_text, \n",
    "        colLabels=data.columns, \n",
    "        loc='center')\n",
    "\n",
    "    if fontsize:\n",
    "        tab.auto_set_font_size(False)\n",
    "        tab.set_fontsize(5)\n",
    "    if scale:\n",
    "        tab.scale(1.25,3)\n",
    "        \n",
    "    plt.savefig(filename, dpi = dpi, bbox_inces='tight')\n",
    "\n",
    "def mk_bar(df, x_col, y_col, title, filename = 'charts/bar.png', dpi = 500):\n",
    "    '''\n",
    "    This function makes a horizontal bar chart from a dataframe.\n",
    "\n",
    "    df: dataframe\n",
    "    x_col: name of column for the x-axis argument in the plot\n",
    "    y_col: name of column for the y-axis argument in the plot\n",
    "    filename: filename to save barchart png\n",
    "    dpi = resolution\n",
    "\n",
    "    return: None\n",
    "    '''\n",
    "\n",
    "    df = df.sort_values(y_col, ascending=True)\n",
    "    df.plot.barh(x=x_col, y=y_col, legend = None)\n",
    "    plt.title(title)\n",
    "    plt.tick_params(axis='y', which='major', labelsize=6.5)\n",
    "    plt.savefig(filename, bbox_inches='tight', dpi=400)\n",
    "    \n",
    "def most_common_yr(df, year = 2018):\n",
    "    '''\n",
    "    This function builds a dataframe that finds the most common crime type for each community area and aggregates to be used\n",
    "    in a pie chart.\n",
    "    \n",
    "    df: dataframe from avg_crime_nhood\n",
    "    \n",
    "    returns: dataframe\n",
    "    '''\n",
    "    \n",
    "    dict_n = []\n",
    "    tgt_col = f'{year} Total'\n",
    "\n",
    "    #make pie chart of the 3?\n",
    "    for c in df['community_area'].unique():\n",
    "        new = df[df['community_area']== c].sort_values(tgt_col, ascending=False)\n",
    "        top = new.iloc[0]\n",
    "        n = {'Type': top['Type'], tgt_col: top[tgt_col], 'area': top['community_area']}\n",
    "        dict_n.append(n)\n",
    "    \n",
    "    return pd.DataFrame(dict_n)\n",
    "    \n",
    "    \n",
    "def mk_pie(df, year, filename = 'charts/pie.png', dpi=500):\n",
    "    '''\n",
    "    This function makes a pie chart from a given dataframe.\n",
    "    \n",
    "    df: dataframe from most_common_yr\n",
    "    \n",
    "    returns: None\n",
    "    '''\n",
    "    \n",
    "    df.set_index('Type', inplace=True, drop=True)\n",
    "    final = df.groupby('Type').count()\n",
    "    \n",
    "    tgt_col = f'{year} Total'\n",
    "    \n",
    "    final.plot.pie(y=tgt_col, legend=None,\n",
    "                   autopct='%1.0f%%',pctdistance=0.75, \n",
    "                   title = f'Most Common Type of Crime in {year}\\n(by Community Area)')\n",
    "    plt.axis('off')\n",
    "    plt.savefig(filename, dpi=dpi)\n",
    "    \n",
    "def summary_nhood(df, area_num):\n",
    "    '''\n",
    "    This function creates a table summary of type of crime in 2017 and 2018 of a particular community area\n",
    "    as well as a bar chart of the percent change.\n",
    "    \n",
    "    df: dataframe from avg_crime_nhood\n",
    "    area_num: community_area number\n",
    "    \n",
    "    returns: None\n",
    "    '''\n",
    "    \n",
    "    filtered = df[df['community_area'] == str(area_num)]\n",
    "    filtered = filtered.set_index('community_area')\n",
    "    \n",
    "    f1 = f'charts/nhood_{area_num}.png'\n",
    "    mk_table(filtered, filename = f1)\n",
    "    \n",
    "    f2 = f'charts/nhood_bar_{area_num}.png'\n",
    "    title = f'Average Number of Crimes by Type (2017 to 2018)\\nCommunity Area: {area_num}'\n",
    "    mk_bar(filtered, 'Type', 'Average', title, f2)\n",
    "    \n",
    "    \n",
    "    "
   ]
  },
  {
   "cell_type": "code",
   "execution_count": 3,
   "metadata": {},
   "outputs": [],
   "source": [
    "# Links to use\n",
    "crime_2017_api = 'https://data.cityofchicago.org/resource/d62x-nvdr.json'\n",
    "crime_2018_api = 'https://data.cityofchicago.org/resource/3i3m-jwuy.json'"
   ]
  },
  {
   "cell_type": "code",
   "execution_count": 4,
   "metadata": {},
   "outputs": [],
   "source": [
    "df1 = pull_data(crime_2017_api)\n",
    "df2 = pull_data(crime_2018_api)"
   ]
  },
  {
   "cell_type": "code",
   "execution_count": 358,
   "metadata": {},
   "outputs": [],
   "source": [
    "#summary stats\n",
    "x = num_crimes_type(df1, df2)\n",
    "\n",
    "z = avg_crime_nhood(df1, df2)\n",
    "a = most_common_yr(z)\n",
    "b = most_common_yr(z, 2017)"
   ]
  },
  {
   "cell_type": "code",
   "execution_count": 43,
   "metadata": {},
   "outputs": [
    {
     "data": {
      "image/png": "[encoded data removed]",
      "text/plain": [
       "<Figure size 576x432 with 1 Axes>"
      ]
     },
     "metadata": {
      "needs_background": "light"
     },
     "output_type": "display_data"
    }
   ],
   "source": [
    "mk_table(x, 'charts/table_by_type.png')"
   ]
  },
  {
   "cell_type": "code",
   "execution_count": 111,
   "metadata": {},
   "outputs": [
    {
     "data": {
      "image/png": "[encoded data removed]",
      "text/plain": [
       "<Figure size 432x288 with 1 Axes>"
      ]
     },
     "metadata": {},
     "output_type": "display_data"
    }
   ],
   "source": [
    "mk_bar(x, 'Type', 'Percent Change', 'Percent Change in Crimes by Type (2017 to 2018)', 'charts/bar_type_chg.png')"
   ]
  },
  {
   "cell_type": "code",
   "execution_count": 359,
   "metadata": {},
   "outputs": [
    {
     "data": {
      "image/png": "[encoded data removed]",
      "text/plain": [
       "<Figure size 432x288 with 1 Axes>"
      ]
     },
     "metadata": {},
     "output_type": "display_data"
    },
    {
     "data": {
      "image/png": "[encoded data removed]",
      "text/plain": [
       "<Figure size 432x288 with 1 Axes>"
      ]
     },
     "metadata": {},
     "output_type": "display_data"
    }
   ],
   "source": [
    "mk_pie(a, 2018, 'charts/2018 pie.png')\n",
    "mk_pie(b, 2017, 'charts/2017 pie.png')"
   ]
  },
  {
   "cell_type": "code",
   "execution_count": 109,
   "metadata": {},
   "outputs": [
    {
     "data": {
      "image/png": "[encoded data removed]",
      "text/plain": [
       "<Figure size 576x432 with 1 Axes>"
      ]
     },
     "metadata": {},
     "output_type": "display_data"
    },
    {
     "data": {
      "image/png": "[encoded data removed]",
      "text/plain": [
       "<Figure size 432x288 with 1 Axes>"
      ]
     },
     "metadata": {},
     "output_type": "display_data"
    }
   ],
   "source": [
    "summary_nhood(z, '3')"
   ]
  },
  {
   "cell_type": "markdown",
   "metadata": {},
   "source": [
    "## Problem 2\n",
    "\n",
    "### Functions"
   ]
  },
  {
   "cell_type": "code",
   "execution_count": 41,
   "metadata": {},
   "outputs": [],
   "source": [
    "def get_acs_blk_data(state, county, filename = 'data/census_data.csv'):\n",
    "    '''\n",
    "    This function retrieves block group data from the census_api and saves it to a csv.\n",
    "    \n",
    "    state: state code for api geographical hierarchy\n",
    "    county: county code for api geographical hierarchy\n",
    "    \n",
    "    returns: dataframe with all block groups for the state and county\n",
    "    '''\n",
    "\n",
    "    all_tracts = f'https://api.census.gov/data/2016/acs/acs5?get=NAME&for=tract:*&in=state:{state}+county:{county}'\n",
    "    \n",
    "    response = requests.get(all_tracts)\n",
    "    data = response.json()\n",
    "    tracts_list = [x[-1] for x in data[1:]]\n",
    "\n",
    "    full_census_data = 'empty'\n",
    "    count=0\n",
    "    for t in tracts_list:\n",
    "        count +=1\n",
    "        #print(count)\n",
    "        blkgrp = f'https://api.census.gov/data/2017/acs/acs5?get=NAME,B01002_001E,B19001_001E,B19001_002E,B19001_003E,B19001_004E,B19001_005E,B19001_006E,B19001_007E,B19001_008E,B19001_009E,B19001_010E,B19001_011E,B19001_012E,B19001_013E,B03002_012E,B03002_002E,B03002_003E,B03002_004E,B03002_006E&for=block+group:*&in=state:{state}+county:{county}+tract:{t}&key=48b45a2062a735ab2c6960def7d8cd8223041485'\n",
    "        #print(blkgrp)\n",
    "        response = requests.get(blkgrp)\n",
    "        data = response.json()\n",
    "        #print(data)\n",
    "\n",
    "        df = pd.DataFrame(data)\n",
    "\n",
    "        if type(full_census_data) == str:\n",
    "            full_census_data = df\n",
    "        else:\n",
    "            full_census_data = pd.concat([full_census_data, df[1:]], ignore_index = True)\n",
    "\n",
    "    full_census_data.to_csv(filename)\n",
    "    return full_census_data\n",
    "\n",
    "def find_tract_blk(lat, lng): \n",
    "    '''\n",
    "    This function finds the census block info for a given latitude and longitude. Easy to use when only have one coordinate to check.\n",
    "    \n",
    "    lat: latitude\n",
    "    lng: longitude\n",
    "    \n",
    "    return: FIPS census tract and block group code\n",
    "    '''\n",
    "    geo_info = cg.coordinates(x=lng,y=lat)\n",
    "    block = geo_info['2010 Census Blocks'][0]['BLKGRP']\n",
    "\n",
    "    tract = geo_info['2010 Census Blocks'][0]['TRACT']\n",
    "\n",
    "    return tract+block\n",
    "\n",
    "\n",
    "\n",
    "def ltlng_to_fips(df, geodf):\n",
    "    '''\n",
    "    This function uses spatial join to identify which the census blocks and tracts for data with latitude and longitude\n",
    "    \n",
    "    df: pandas dataframe with crime data\n",
    "    geofile: geojson file with census block level data\n",
    "    \n",
    "    return: geodataframe \n",
    "    '''\n",
    "    \n",
    "    #add shapely Points to pandas dataframe\n",
    "    df = df.dropna(subset=['latitude', 'longitude'])\n",
    "    geometry = [Point(xy) for xy in zip(pd.to_numeric(df.longitude), pd.to_numeric(df.latitude))]\n",
    "    df = df.drop(['longitude', 'latitude'], axis=1)\n",
    "    crs = {'init': 'epsg:4326'}\n",
    "    gdf = geopandas.GeoDataFrame(df, crs=crs, geometry=geometry)\n",
    "    \n",
    "    #join\n",
    "    return geopandas.sjoin(gdf, geodf, how=\"inner\", op='intersects')\n",
    "    \n",
    "def multiple_joins(types, df_list, geofile = 'data/block_bounds.geojson'):\n",
    "    '''This function returns a dictionary of multiple spatial joins\n",
    "    \n",
    "    types: list of types to filter by\n",
    "    df_list: list of dfs to do the join on\n",
    "    \n",
    "    returns: dictionary\n",
    "    \n",
    "    '''\n",
    "    \n",
    "    final = {}\n",
    "    \n",
    "    #read in geojson\n",
    "    geodf =geopandas.read_file(geofile)\n",
    "    \n",
    "    for t in types:\n",
    "        #print(t)\n",
    "        for df in df_list:\n",
    "            t = t.upper()\n",
    "            yr = df['year'].unique()[0]\n",
    "            #print(yr)\n",
    "            tmp = df[df['primary type'] == t]\n",
    "            #print(tmp)\n",
    "            \n",
    "            joined = ltlng_to_fips(tmp, geodf)\n",
    "            \n",
    "            t = t.capitalize()\n",
    "            key = f'{t} ({yr})'\n",
    "            final[key] = joined\n",
    "            \n",
    "    return final\n",
    "\n",
    "def build_summary_table(metrics, dict_df):\n",
    "    '''\n",
    "    This function builds a summary table of characteristics for each crime type in dict_df\n",
    "    \n",
    "    metrics: list of metrics for summary table\n",
    "    dict_df: dictionary of df with census info for that crime (results of block_summary)\n",
    "    \n",
    "    returns: summary dataframe\n",
    "    '''\n",
    "    \n",
    "    summary_table = pd.DataFrame()\n",
    "    summary_table['Descriptive Metrics: Average'] = metrics\n",
    "    \n",
    "    for k, v in dict_df.items():\n",
    "        print(k)\n",
    "    \n",
    "        blk_list = get_blk_list(v)\n",
    "        blk_sum = block_summary(blk_list, census_df)\n",
    "        \n",
    "        values = get_metrics(blk_sum, metrics)\n",
    "        \n",
    "        summary_table[k] = values\n",
    "        \n",
    "    return summary_table\n",
    "\n",
    "def get_metrics(df_block_info, metrics):\n",
    "    '''\n",
    "    Get summary metrics for summary table\n",
    "    \n",
    "    df_block_info: dataframe for crime type with block information\n",
    "    metrics: columns to average\n",
    "    \n",
    "    return: list of values\n",
    "    '''\n",
    "    summary = []\n",
    "    for m in metrics:\n",
    "        val = round(df_block_info[m].mean(),2)\n",
    "        if 'P' in m.upper():\n",
    "            val = f'{val}%'\n",
    "        summary.append(val)\n",
    "        \n",
    "    return summary\n",
    "\n",
    "def get_blk_list(crime_df, q_thresh = 0.75):\n",
    "    '''\n",
    "    This function identifies the blocks that had a certain amount of crime (set by q_thresh)\n",
    "    \n",
    "    crime_df: df with specific type of crime (battery, homicide, etc) for one year\n",
    "    q_thresh: quantile threshold to determine which blocks to look at\n",
    "    \n",
    "    return: list of block groups as strings\n",
    "    '''\n",
    "    \n",
    "    crime_df['block'] = crime_df['tractce10'] + crime_df['blockce10'].str.slice(stop=1)\n",
    "    by_block = crime_df.groupby('block').count()[['id']]\n",
    "    q = by_block['id'].quantile(q_thresh)\n",
    "    filtered = by_block[by_block['id'] > q]\n",
    "    \n",
    "    return list(filtered.index)\n",
    "    \n",
    "def block_summary(block_list, all_census):\n",
    "    '''\n",
    "    This function returns summary statistics for given blocks.\n",
    "    \n",
    "    block_list: list of blocks to summarize\n",
    "    all_census: census dataframe\n",
    "    \n",
    "    return: dataframe with summary stats per block group\n",
    "    '''\n",
    "    summary = []\n",
    "    \n",
    "    for blk in block_list:\n",
    "        tract = int(blk[0:-1])\n",
    "        block = int(blk[-1])\n",
    "        \n",
    "        census_df = all_census[(all_census.tract == tract) & (all_census.block == block)]\n",
    "        \n",
    "        med_age = census_df['Median Age'].iloc[0]\n",
    "        if med_age < 0:\n",
    "            continue\n",
    "        \n",
    "        total_hh = census_df['Total Households'].iloc[0]\n",
    "        hhinc_less_25 = round((sum([census_df['Households < 10k'].iloc[0], census_df['10k < Household < 15k'].iloc[0], census_df['15k < Household < 20k'].iloc[0], census_df['20k < Household < 25k'].iloc[0]])/total_hh)*100,2)\n",
    "        hhinc_25_50 = round((sum([census_df['25k < Household < 30k'].iloc[0], census_df['30k < Household < 35k'].iloc[0], census_df['35k < Household < 40k'].iloc[0], census_df['40k < Household < 45k'].iloc[0], census_df['45k < Household < 50k'].iloc[0]])/total_hh)*100,2)\n",
    "        hhinc_50_100 = round((sum([census_df['50k < Household < 60k'].iloc[0], census_df['60k < Household < 75k'].iloc[0], census_df['75k < Household < 100k'].iloc[0]])/total_hh)*100,2)\n",
    "        #hhinc_over_100 = round((1 - hhinc_less_25 - hhinc_25_50 - hhinc_50_100)*100,2)\n",
    "        \n",
    "        total_race = census_df['Total Hispanic'].iloc[0] + census_df['Total Not Hispanic'].iloc[0]\n",
    "        pct_hisp = round((census_df['Total Hispanic'].iloc[0]/total_race)*100, 2)\n",
    "        pct_white = round((census_df['Total White'].iloc[0]/total_race)*100, 2)\n",
    "        pct_black = round((census_df['Total Black'].iloc[0]/total_race)*100, 2)\n",
    "        pct_asian = round((census_df['Total Asian'].iloc[0]/total_race)*100, 2)\n",
    "        \n",
    "        \n",
    "        tmp = {'Block': blk, 'Median Age': med_age, 'Pct household income < 25k': hhinc_less_25, '25k < Pct household income < 50k': hhinc_25_50,\n",
    "              '50k < Pct household income < 100k': hhinc_50_100, 'Percent Hispanic': pct_hisp,\n",
    "              'Percent White': pct_white, 'Percent Black': pct_black, 'Percent Asian': pct_asian}\n",
    "        \n",
    "        summary.append(tmp)\n",
    "    #print(summary)\n",
    "    return pd.DataFrame(summary)    \n"
   ]
  },
  {
   "cell_type": "markdown",
   "metadata": {},
   "source": [
    "#### Pull in ACS 5Y 2017 Data\n",
    "\n",
    "Variable information:\n",
    "\n",
    "\n",
    "'B01002_001E': 'Median age',\n",
    "\n",
    "'B19001': HOUSEHOLD INCOME IN THE PAST 12 MONTHS,\n",
    "\n",
    "'B19001_001E': 'Total', \n",
    "\n",
    "'B19001_002E': 'Less than 10,000',\n",
    "\n",
    "'B19001_003E': '10000 to 14999',\n",
    "\n",
    "'B19001_004E': '15000 to 19999',\n",
    "\n",
    "'B19001_005E': '20000 to 24999',\n",
    "\n",
    "'B19001_006E': '25000 to 29999',\n",
    "\n",
    "'B19001_007E': '30000 to 34999',\n",
    "\n",
    "'B19001_008E': '35000 to 39999',\n",
    "\n",
    "'B19001_009E': '40000 to 45999',\n",
    "\n",
    "'B19001_010E': '45000 to 49999',\n",
    "\n",
    "'B19001_011E': '50000 to 59999',\n",
    "\n",
    "'B19001_012E': '60000 to 74999',\n",
    "\n",
    "'B19001_013E': '75000 to 99999',\n",
    "\n",
    "'B03002_012E': 'Estimate!!Total!!Hispanic or Latino', \n",
    "\n",
    "'B03002_002E': 'Estimate!!Total!!Not Hispanic or Latino',\n",
    "\n",
    "'B03002_003E': 'Estimate!!Total!!Not Hispanic or Latino!!White alone',\n",
    "\n",
    "'B03002_004E': 'Estimate!!Total!!Not Hispanic or Latino!!Black or African American alone',\n",
    "\n",
    "'B03002_006E': 'Estimate!!Total!!Not Hispanic or Latino!!Asian alone',"
   ]
  },
  {
   "cell_type": "code",
   "execution_count": null,
   "metadata": {},
   "outputs": [],
   "source": [
    "census_pull = get_acs_blk_data('17','031')"
   ]
  },
  {
   "cell_type": "code",
   "execution_count": 74,
   "metadata": {},
   "outputs": [],
   "source": [
    "census_df = pd.read_csv('data/census_data.csv',skiprows=1)\n",
    "census_df = census_df.drop('0', axis=1)\n",
    "census_df.columns = ['Name', 'Median Age', 'Total Households', 'Households < 10k', '10k < Household < 15k',\n",
    "                    '15k < Household < 20k','20k < Household < 25k','25k < Household < 30k',\n",
    "                    '30k < Household < 35k','35k < Household < 40k','40k < Household < 45k',\n",
    "                    '45k < Household < 50k', '50k < Household < 60k','60k < Household < 75k',\n",
    "                    '75k < Household < 100k', 'Total Hispanic', 'Total Not Hispanic', 'Total White',\n",
    "                    'Total Black', 'Total Asian', 'state', 'county', 'tract', 'block']\n"
   ]
  },
  {
   "cell_type": "markdown",
   "metadata": {},
   "source": [
    "#### Compare different types of crime"
   ]
  },
  {
   "cell_type": "code",
   "execution_count": 48,
   "metadata": {
    "scrolled": true
   },
   "outputs": [],
   "source": [
    "joined1 = multiple_joins(['BATTERY', 'HOMICIDE'], [df1, df2])\n",
    "\n",
    "joined2 = multiple_joins(['DECEPTIVE PRACTICE','SEX OFFENSE'], [df1, df2])\n",
    "\n",
    "metrics = ['Median Age', 'Pct household income < 25k', '25k < Pct household income < 50k',\n",
    "              '50k < Pct household income < 100k', 'Percent Hispanic',\n",
    "              'Percent White', 'Percent Black', 'Percent Asian']"
   ]
  },
  {
   "cell_type": "code",
   "execution_count": null,
   "metadata": {},
   "outputs": [],
   "source": [
    "tbl1 = build_summary_table(metrics, joined1)\n",
    "tbl2 = build_summary_table(metrics, joined2)"
   ]
  },
  {
   "cell_type": "code",
   "execution_count": null,
   "metadata": {},
   "outputs": [],
   "source": [
    "mk_table(tbl1, 'charts/problem2_summary1.png', scale=True, fontsize=True)\n",
    "mk_table(tbl2, 'charts/problem2_summary2.png', scale=True, fontsize=True)"
   ]
  },
  {
   "cell_type": "markdown",
   "metadata": {},
   "source": [
    "## Problem 3"
   ]
  },
  {
   "cell_type": "code",
   "execution_count": 81,
   "metadata": {
    "scrolled": true
   },
   "outputs": [
    {
     "name": "stderr",
     "output_type": "stream",
     "text": [
      "/anaconda3/envs/geopdenv/lib/python3.6/site-packages/ipykernel_launcher.py:2: SettingWithCopyWarning: \n",
      "A value is trying to be set on a copy of a slice from a DataFrame.\n",
      "Try using .loc[row_indexer,col_indexer] = value instead\n",
      "\n",
      "See the caveats in the documentation: http://pandas.pydata.org/pandas-docs/stable/indexing.html#indexing-view-versus-copy\n",
      "  \n",
      "/anaconda3/envs/geopdenv/lib/python3.6/site-packages/ipykernel_launcher.py:5: SettingWithCopyWarning: \n",
      "A value is trying to be set on a copy of a slice from a DataFrame.\n",
      "Try using .loc[row_indexer,col_indexer] = value instead\n",
      "\n",
      "See the caveats in the documentation: http://pandas.pydata.org/pandas-docs/stable/indexing.html#indexing-view-versus-copy\n",
      "  \"\"\"\n"
     ]
    }
   ],
   "source": [
    "ward_43_17 = df1[df1['ward']=='43']\n",
    "ward_43_17['date'] = ward_43_17['date'].astype('datetime64[ns]')\n",
    "\n",
    "ward_43_18 = df2[df2['ward']=='43']\n",
    "ward_43_18['date'] = ward_43_18['date'].astype('datetime64[ns]')\n",
    "\n",
    "end_date_18 = pd.Timestamp(year=2018,month=7,day=26, hour = 23, minute= 59, second=59)\n",
    "sub = pd.Timedelta('29 days')\n",
    "start_date_18 = end_date_18 - sub\n",
    "\n",
    "end_date_17 = pd.Timestamp(year=2017, month=7, day=26, hour = 23, minute= 59, second=59)\n",
    "start_date_17 = end_date_17 - sub\n",
    "\n",
    "filter_17 = ward_43_17[(ward_43_17['date'] >= start_date_17) & (ward_43_17['date'] <= end_date_17)]\n",
    "filter_18 = ward_43_18[(ward_43_18['date'] >= start_date_18) & (ward_43_18['date'] <= end_date_18)]\n",
    "\n",
    "totl_17 = filter_17.shape[0]\n",
    "totl_18 = filter_18.shape[0]\n",
    "\n",
    "total = pd.DataFrame([['All Types', totl_17,totl_18]], columns = ['primary_type','2017 Period Total', '2018 Period Total'])\n",
    "\n",
    "tgt_types = ['ROBBERY', 'BURGLARY', 'MOTOR VEHICLE THEFT', 'BATTERY']\n",
    "filter_17 = filter_17[filter_17['primary_type'].isin(tgt_types)]\n",
    "filter_18 = filter_18[filter_18['primary_type'].isin(tgt_types)]\n",
    "\n",
    "count_17 = filter_17.groupby('primary_type').count()[['id']]\n",
    "count_17.columns = ['2017 Period Total']\n",
    "count_18 = filter_18.groupby('primary_type').count()[['id']]\n",
    "count_18.columns = ['2018 Period Total']\n",
    "both = pd.merge(count_17, count_18, on='primary_type')\n",
    "both = both.reset_index()\n",
    "both = total.append(both, ignore_index = True)\n",
    "\n",
    "\n",
    "both['Pct Change'] = round((both['2018 Period Total']/both['2017 Period Total']-1)*100,2)\n",
    "both['Claimed Pct Change'] = [16, 136, 50, 41, 21]\n",
    "\n",
    "both.columns = ['Category', '2017 Period Total', '2018 Period Total', 'Pct Change', 'Claimed Pct Change']\n",
    "\n"
   ]
  },
  {
   "cell_type": "code",
   "execution_count": 82,
   "metadata": {},
   "outputs": [
    {
     "data": {
      "image/png": "[encoded data removed]",
      "text/plain": [
       "<Figure size 576x432 with 1 Axes>"
      ]
     },
     "metadata": {
      "needs_background": "light"
     },
     "output_type": "display_data"
    }
   ],
   "source": [
    "mk_table(both, 'charts/problem3_comp.png')"
   ]
  },
  {
   "cell_type": "markdown",
   "metadata": {},
   "source": [
    "#### YTD numbers vs 2017 and 2018"
   ]
  },
  {
   "cell_type": "code",
   "execution_count": 80,
   "metadata": {
    "scrolled": true
   },
   "outputs": [],
   "source": [
    "crime_2016 = 'https://data.cityofchicago.org/resource/kf95-mnd6.json'\n",
    "df3 = pull_data(crime_2016)"
   ]
  },
  {
   "cell_type": "code",
   "execution_count": 93,
   "metadata": {
    "scrolled": true
   },
   "outputs": [
    {
     "name": "stderr",
     "output_type": "stream",
     "text": [
      "/anaconda3/envs/geopdenv/lib/python3.6/site-packages/ipykernel_launcher.py:2: SettingWithCopyWarning: \n",
      "A value is trying to be set on a copy of a slice from a DataFrame.\n",
      "Try using .loc[row_indexer,col_indexer] = value instead\n",
      "\n",
      "See the caveats in the documentation: http://pandas.pydata.org/pandas-docs/stable/indexing.html#indexing-view-versus-copy\n",
      "  \n"
     ]
    },
    {
     "data": {
      "image/png": "[encoded data removed]",
      "text/plain": [
       "<Figure size 576x432 with 1 Axes>"
      ]
     },
     "metadata": {
      "needs_background": "light"
     },
     "output_type": "display_data"
    }
   ],
   "source": [
    "ward_43_16 = df3[df3['ward']=='43']\n",
    "ward_43_16['date'] = ward_43_16['date'].astype('datetime64[ns]')\n",
    "\n",
    "end_date_16 = pd.Timestamp(year=2016, month=7, day=26, hour = 23, minute= 59, second=59)\n",
    "\n",
    "ytd_16 = ward_43_16[(ward_43_16['date'] <= end_date_16)]\n",
    "ytd_17 = ward_43_17[(ward_43_17['date'] <= end_date_17)]\n",
    "ytd_18 = ward_43_18[(ward_43_18['date'] <= end_date_18)]\n",
    "\n",
    "ytd_totl_17 = ytd_17.shape[0]\n",
    "ytd_totl_16 = ytd_16.shape[0]\n",
    "ytd_totl_18 = ytd_18.shape[0]\n",
    "\n",
    "ytd_counts = pd.DataFrame([['2016', ytd_totl_16], ['2017', ytd_totl_17], ['2018', ytd_totl_18]], columns = ['Year', 'YTD Total'])\n",
    "\n",
    "ytd_counts['Pct Change compared to 2018'] = round((ytd_totl_18/ytd_counts['YTD Total']-1)*100,2)\n",
    "\n",
    "ytd_counts['Claimed Pct Change compared to 2018'] = [22, 10, 'Nan']\n",
    "\n",
    "mk_table(ytd_counts, 'charts/problem3_ytd.png')"
   ]
  },
  {
   "cell_type": "code",
   "execution_count": null,
   "metadata": {},
   "outputs": [],
   "source": []
  },
  {
   "cell_type": "code",
   "execution_count": 210,
   "metadata": {},
   "outputs": [
    {
     "data": {
      "text/plain": [
       "9.680407596109308"
      ]
     },
     "execution_count": 210,
     "metadata": {},
     "output_type": "execute_result"
    }
   ],
   "source": [
    "(ytd_totl_18/ytd_totl_17 -1)*100"
   ]
  },
  {
   "cell_type": "code",
   "execution_count": 209,
   "metadata": {},
   "outputs": [
    {
     "data": {
      "text/plain": [
       "19.53558808682483"
      ]
     },
     "execution_count": 209,
     "metadata": {},
     "output_type": "execute_result"
    }
   ],
   "source": [
    "(ytd_totl_18/ytd_totl_16 -1)*100"
   ]
  },
  {
   "cell_type": "code",
   "execution_count": 188,
   "metadata": {},
   "outputs": [],
   "source": [
    "filter_16 = ward_43_16[(ward_43_16['date'] >= start_date_16) & (ward_43_16['date'] <= end_date_16)]\n",
    "totl_16 = filter_16.shape[0]\n",
    "count_16 = filter_16.groupby('primary_type').count()[['id']]"
   ]
  },
  {
   "cell_type": "markdown",
   "metadata": {},
   "source": [
    "## Problem 4"
   ]
  },
  {
   "cell_type": "markdown",
   "metadata": {},
   "source": [
    "#### Part a)"
   ]
  },
  {
   "cell_type": "code",
   "execution_count": 226,
   "metadata": {},
   "outputs": [],
   "source": [
    "#crime call from 2111 S Michigan Ave\n",
    "address_info = cg.onelineaddress('2111 S Michigan Ave, Chicago, IL')"
   ]
  },
  {
   "cell_type": "code",
   "execution_count": 234,
   "metadata": {},
   "outputs": [
    {
     "data": {
      "text/plain": [
       "'3301004'"
      ]
     },
     "execution_count": 234,
     "metadata": {},
     "output_type": "execute_result"
    }
   ],
   "source": [
    "det_census = address_info[0]['geographies']['2010 Census Blocks'][0]\n",
    "address_tractblock = det_census['TRACT']+det_census['BLKGRP']\n",
    "address_tractblock"
   ]
  },
  {
   "cell_type": "code",
   "execution_count": 75,
   "metadata": {},
   "outputs": [],
   "source": [
    "geodf =geopandas.read_file('data/block_bounds.geojson')"
   ]
  },
  {
   "cell_type": "code",
   "execution_count": 238,
   "metadata": {},
   "outputs": [],
   "source": [
    "join_2018 = ltlng_to_fips(df2, geodf) \n",
    "join_2018['block'] = join_2018['tractce10'] + join_2018['blockce10'].str.slice(stop=1)"
   ]
  },
  {
   "cell_type": "code",
   "execution_count": 241,
   "metadata": {},
   "outputs": [],
   "source": [
    "filter_address = join_2018[join_2018['block'] == address_tractblock]"
   ]
  },
  {
   "cell_type": "code",
   "execution_count": 242,
   "metadata": {},
   "outputs": [
    {
     "data": {
      "text/plain": [
       "(350, 29)"
      ]
     },
     "execution_count": 242,
     "metadata": {},
     "output_type": "execute_result"
    }
   ],
   "source": [
    "filter_address.shape"
   ]
  },
  {
   "cell_type": "code",
   "execution_count": 255,
   "metadata": {},
   "outputs": [],
   "source": [
    "total_add = filter_address.shape[0]\n",
    "count_add = filter_address.groupby('primary_type').count()[['id']]\n",
    "count_add['percent'] = round((count_add.id/total_add)*100,2)\n",
    "count_add = count_add.reset_index()\n",
    "count_add.columns = ['Type', 'Frequency in 2018', 'Percent of Total']"
   ]
  },
  {
   "cell_type": "code",
   "execution_count": 258,
   "metadata": {},
   "outputs": [],
   "source": [
    "probs=count_add.sort_values('Percent of Total', ascending=False)"
   ]
  },
  {
   "cell_type": "code",
   "execution_count": 260,
   "metadata": {},
   "outputs": [
    {
     "data": {
      "image/png": "[encoded data removed]",
      "text/plain": [
       "<Figure size 576x432 with 1 Axes>"
      ]
     },
     "metadata": {
      "needs_background": "light"
     },
     "output_type": "display_data"
    }
   ],
   "source": [
    "mk_table(probs, 'charts/probability_table.png')"
   ]
  },
  {
   "cell_type": "markdown",
   "metadata": {},
   "source": [
    "#### Part b"
   ]
  },
  {
   "cell_type": "code",
   "execution_count": 262,
   "metadata": {},
   "outputs": [],
   "source": [
    "community_areas = 'https://data.cityofchicago.org/resource/igwz-8jzy.json'\n",
    "nhood_dict = pull_community(community_areas)\n"
   ]
  },
  {
   "cell_type": "code",
   "execution_count": 318,
   "metadata": {},
   "outputs": [],
   "source": [
    "gp_num = list(nhood_dict[nhood_dict['name'].str.contains('GARFIELD PARK')]['community_area'])\n",
    "upt_num = list(nhood_dict[nhood_dict['name'].str.contains('UPTOWN')]['community_area'])"
   ]
  },
  {
   "cell_type": "code",
   "execution_count": 319,
   "metadata": {},
   "outputs": [],
   "source": [
    "gp_filter = df2[(df2['community_area'] == gp_num[0]) | (df2['community_area'] == gp_num[1])]\n",
    "\n",
    "upt_filter = df2[df2['community_area'] == upt_num[0]]"
   ]
  },
  {
   "cell_type": "code",
   "execution_count": 320,
   "metadata": {},
   "outputs": [],
   "source": [
    "gp_counts = gp_filter.groupby('primary_type').count()[['id']]\n",
    "\n",
    "upt_counts = upt_filter.groupby('primary_type').count()[['id']]"
   ]
  },
  {
   "cell_type": "code",
   "execution_count": 325,
   "metadata": {},
   "outputs": [
    {
     "data": {
      "text/plain": [
       "[0.02048185366153468, 0.015150118312282966, 0.005331735349251713]"
      ]
     },
     "execution_count": 325,
     "metadata": {},
     "output_type": "execute_result"
    }
   ],
   "source": [
    "totl_theft_18 = df2[df2['primary_type'] == 'THEFT'].shape[0]\n",
    "\n",
    "upt_pr = upt_counts.loc['THEFT']['id']/totl_theft_18\n",
    "gp_pr = gp_counts.loc['THEFT']['id']/totl_theft_18\n",
    "[gp_pr, upt_pr, gp_pr - upt_pr]"
   ]
  },
  {
   "cell_type": "markdown",
   "metadata": {},
   "source": [
    "#### Part c\n",
    "\n",
    "There are a total of 1000 calls, 600 from Garfield Park and 400 from Uptown. Of the 600 calls from Garfield Park, 100 of them are about Battery. Of the 400 calls from Uptown, 160 are about Battery. If a call comes about Battery, how much more/less likely is it that the call came from Garfield Park versus Uptown?\n"
   ]
  },
  {
   "cell_type": "code",
   "execution_count": 329,
   "metadata": {},
   "outputs": [],
   "source": [
    "#given:\n",
    "pr_b_gp = 1/6\n",
    "pr_b_up = 160/400\n",
    "\n",
    "pr_up = 400/1000\n",
    "pr_gp = 600/1000\n",
    "\n",
    "pr_b = (100+160)/1000"
   ]
  },
  {
   "cell_type": "code",
   "execution_count": 336,
   "metadata": {},
   "outputs": [],
   "source": [
    "#if call comes about Battery, prob that it is from Garfield Park:\n",
    "pr_gp_b = (pr_b_gp * pr_gp)/pr_b\n",
    "\n",
    "#if call comes about Battery, prob that it is from Uptown\n",
    "pr_up_b = (pr_b_up * pr_up)/pr_b"
   ]
  },
  {
   "cell_type": "code",
   "execution_count": 368,
   "metadata": {},
   "outputs": [
    {
     "data": {
      "text/plain": [
       "0.3846153846153846"
      ]
     },
     "execution_count": 368,
     "metadata": {},
     "output_type": "execute_result"
    }
   ],
   "source": [
    "{'Pr(Garfield Park | Battery)': pr_gp_b, 'Pr(Uptown | Battery)':pr_up_b}\n",
    "pr_up_b - pr_gp_b"
   ]
  },
  {
   "cell_type": "markdown",
   "metadata": {},
   "source": [
    "If a call comes about Battery, it is 0.2308 less likely to have come from Garfield Park than Uptown."
   ]
  },
  {
   "cell_type": "code",
   "execution_count": null,
   "metadata": {},
   "outputs": [],
   "source": []
  }
 ],
 "metadata": {
  "kernelspec": {
   "display_name": "Python 3",
   "language": "python",
   "name": "python3"
  },
  "language_info": {
   "codemirror_mode": {
    "name": "ipython",
    "version": 3
   },
   "file_extension": ".py",
   "mimetype": "text/x-python",
   "name": "python",
   "nbconvert_exporter": "python",
   "pygments_lexer": "ipython3",
   "version": "3.6.8"
  }
 },
 "nbformat": 4,
 "nbformat_minor": 2
}
